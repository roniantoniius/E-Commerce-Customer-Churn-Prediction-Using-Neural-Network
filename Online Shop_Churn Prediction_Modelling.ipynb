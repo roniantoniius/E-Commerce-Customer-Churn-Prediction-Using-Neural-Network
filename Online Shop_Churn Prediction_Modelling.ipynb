{
 "cells": [
  {
   "cell_type": "markdown",
   "id": "d359ee81",
   "metadata": {},
   "source": [
    "# E-Commerce Customer Churn Prediction"
   ]
  },
  {
   "cell_type": "code",
   "execution_count": 1,
   "id": "428a7e83",
   "metadata": {},
   "outputs": [],
   "source": [
    "import warnings\n",
    "warnings.filterwarnings('ignore')"
   ]
  },
  {
   "cell_type": "code",
   "execution_count": 54,
   "id": "d9610a07",
   "metadata": {},
   "outputs": [],
   "source": [
    "import keras\n",
    "import pickle\n",
    "from pyforest                      import *\n",
    "from feature_engine.outliers       import Winsorizer\n",
    "\n",
    "# library dibawah sebenarnya udah ada di pyforest\n",
    "from sklearn.model_selection       import train_test_split\n",
    "from sklearn.feature_selection     import SelectKBest, f_classif\n",
    "from sklearn.preprocessing         import MinMaxScaler, StandardScaler\n",
    "from sklearn.preprocessing         import LabelEncoder, OrdinalEncoder, OneHotEncoder\n",
    "from sklearn.pipeline              import make_pipeline\n",
    "from sklearn.compose               import ColumnTransformer\n",
    "from sklearn.metrics               import (f1_score,\n",
    "                                           precision_score,\n",
    "                                           recall_score,\n",
    "                                           log_loss,\n",
    "                                           accuracy_score,\n",
    "                                           classification_report,\n",
    "                                           ConfusionMatrixDisplay,\n",
    "                                           confusion_matrix)\n"
   ]
  },
  {
   "cell_type": "code",
   "execution_count": 3,
   "id": "b162c0da",
   "metadata": {},
   "outputs": [],
   "source": [
    "from sklearn.ensemble              import StackingClassifier\n",
    "from sklearn.pipeline              import Pipeline\n",
    "from sklearn.preprocessing         import StandardScaler\n",
    "from sklearn_pandas                import DataFrameMapper\n",
    "from sklearn.ensemble              import AdaBoostClassifier\n",
    "from sklearn.tree                  import DecisionTreeClassifier\n",
    "from sklearn.linear_model          import LogisticRegression\n",
    "from matplotlib.colors             import ListedColormap\n",
    "from sklearn.linear_model          import SGDClassifier\n",
    "from sklearn.ensemble              import RandomForestClassifier\n",
    "from sklearn.linear_model          import SGDClassifier\n",
    "from sklearn.svm                   import SVC\n",
    "from sklearn.naive_bayes           import GaussianNB\n",
    "from sklearn.neighbors             import KNeighborsClassifier\n",
    "from sklearn.neighbors             import NeighborhoodComponentsAnalysis\n",
    "from keras.callbacks               import EarlyStopping"
   ]
  },
  {
   "cell_type": "code",
   "execution_count": 4,
   "id": "453cd10e",
   "metadata": {},
   "outputs": [
    {
     "data": {
      "application/javascript": [
       "\n",
       "        if (window._pyforest_update_imports_cell) { window._pyforest_update_imports_cell('import pandas as pd'); }\n",
       "    "
      ],
      "text/plain": [
       "<IPython.core.display.Javascript object>"
      ]
     },
     "metadata": {},
     "output_type": "display_data"
    },
    {
     "data": {
      "application/javascript": [
       "\n",
       "        if (window._pyforest_update_imports_cell) { window._pyforest_update_imports_cell('import pandas as pd'); }\n",
       "    "
      ],
      "text/plain": [
       "<IPython.core.display.Javascript object>"
      ]
     },
     "metadata": {},
     "output_type": "display_data"
    }
   ],
   "source": [
    "X = pd.read_csv('C:/Users/ASUS/kode/Projek/E-Commerce Customer Churn Prediction/X.csv')\n",
    "y = pd.read_csv('C:/Users/ASUS/kode/Projek/E-Commerce Customer Churn Prediction/y.csv')"
   ]
  },
  {
   "cell_type": "code",
   "execution_count": 5,
   "id": "05d7e982",
   "metadata": {},
   "outputs": [
    {
     "data": {
      "text/html": [
       "<div>\n",
       "<style scoped>\n",
       "    .dataframe tbody tr th:only-of-type {\n",
       "        vertical-align: middle;\n",
       "    }\n",
       "\n",
       "    .dataframe tbody tr th {\n",
       "        vertical-align: top;\n",
       "    }\n",
       "\n",
       "    .dataframe thead th {\n",
       "        text-align: right;\n",
       "    }\n",
       "</style>\n",
       "<table border=\"1\" class=\"dataframe\">\n",
       "  <thead>\n",
       "    <tr style=\"text-align: right;\">\n",
       "      <th></th>\n",
       "      <th>kategori_wilayah</th>\n",
       "      <th>kategori_membership</th>\n",
       "      <th>bergabung_melalui_referral</th>\n",
       "      <th>jenis_penawaran_preferensi</th>\n",
       "      <th>medium_operasi</th>\n",
       "      <th>rata_rata_waktu_dihabiskan</th>\n",
       "      <th>rata_rata_nilai_transaksi</th>\n",
       "      <th>rata_rata_hari_login</th>\n",
       "      <th>poin_di_dompet</th>\n",
       "      <th>menggunakan_diskon_khusus</th>\n",
       "      <th>preferensi_aplikasi_penawaran</th>\n",
       "      <th>umpan_balik</th>\n",
       "    </tr>\n",
       "  </thead>\n",
       "  <tbody>\n",
       "    <tr>\n",
       "      <th>0</th>\n",
       "      <td>Unknown</td>\n",
       "      <td>No Membership</td>\n",
       "      <td>Yes</td>\n",
       "      <td>Without Offers</td>\n",
       "      <td>Unknown</td>\n",
       "      <td>801.13375</td>\n",
       "      <td>38604.69</td>\n",
       "      <td>10.0</td>\n",
       "      <td>627.48</td>\n",
       "      <td>Yes</td>\n",
       "      <td>Yes</td>\n",
       "      <td>Poor Website</td>\n",
       "    </tr>\n",
       "    <tr>\n",
       "      <th>1</th>\n",
       "      <td>Unknown</td>\n",
       "      <td>Basic Membership</td>\n",
       "      <td>Yes</td>\n",
       "      <td>Without Offers</td>\n",
       "      <td>Desktop</td>\n",
       "      <td>338.15000</td>\n",
       "      <td>7665.66</td>\n",
       "      <td>17.0</td>\n",
       "      <td>575.97</td>\n",
       "      <td>Yes</td>\n",
       "      <td>No</td>\n",
       "      <td>Poor Customer Service</td>\n",
       "    </tr>\n",
       "    <tr>\n",
       "      <th>2</th>\n",
       "      <td>City</td>\n",
       "      <td>Silver Membership</td>\n",
       "      <td>Unknown</td>\n",
       "      <td>Credit/Debit Card Offers</td>\n",
       "      <td>Unknown</td>\n",
       "      <td>235.14000</td>\n",
       "      <td>37671.69</td>\n",
       "      <td>5.0</td>\n",
       "      <td>767.93</td>\n",
       "      <td>Yes</td>\n",
       "      <td>No</td>\n",
       "      <td>Too many ads</td>\n",
       "    </tr>\n",
       "    <tr>\n",
       "      <th>3</th>\n",
       "      <td>Village</td>\n",
       "      <td>No Membership</td>\n",
       "      <td>No</td>\n",
       "      <td>Credit/Debit Card Offers</td>\n",
       "      <td>Desktop</td>\n",
       "      <td>56.67000</td>\n",
       "      <td>15678.14</td>\n",
       "      <td>11.0</td>\n",
       "      <td>590.22</td>\n",
       "      <td>No</td>\n",
       "      <td>Yes</td>\n",
       "      <td>Too many ads</td>\n",
       "    </tr>\n",
       "    <tr>\n",
       "      <th>4</th>\n",
       "      <td>Town</td>\n",
       "      <td>Silver Membership</td>\n",
       "      <td>Unknown</td>\n",
       "      <td>Gift Vouchers/Coupons</td>\n",
       "      <td>Smartphone</td>\n",
       "      <td>153.99000</td>\n",
       "      <td>8422.68</td>\n",
       "      <td>0.0</td>\n",
       "      <td>722.04</td>\n",
       "      <td>Yes</td>\n",
       "      <td>No</td>\n",
       "      <td>Poor Product Quality</td>\n",
       "    </tr>\n",
       "    <tr>\n",
       "      <th>...</th>\n",
       "      <td>...</td>\n",
       "      <td>...</td>\n",
       "      <td>...</td>\n",
       "      <td>...</td>\n",
       "      <td>...</td>\n",
       "      <td>...</td>\n",
       "      <td>...</td>\n",
       "      <td>...</td>\n",
       "      <td>...</td>\n",
       "      <td>...</td>\n",
       "      <td>...</td>\n",
       "      <td>...</td>\n",
       "    </tr>\n",
       "    <tr>\n",
       "      <th>36987</th>\n",
       "      <td>Town</td>\n",
       "      <td>Gold Membership</td>\n",
       "      <td>Unknown</td>\n",
       "      <td>Credit/Debit Card Offers</td>\n",
       "      <td>Unknown</td>\n",
       "      <td>199.33000</td>\n",
       "      <td>29455.29</td>\n",
       "      <td>9.0</td>\n",
       "      <td>846.52</td>\n",
       "      <td>Yes</td>\n",
       "      <td>Yes</td>\n",
       "      <td>User Friendly Website</td>\n",
       "    </tr>\n",
       "    <tr>\n",
       "      <th>36988</th>\n",
       "      <td>City</td>\n",
       "      <td>Gold Membership</td>\n",
       "      <td>Yes</td>\n",
       "      <td>Without Offers</td>\n",
       "      <td>Desktop</td>\n",
       "      <td>368.50000</td>\n",
       "      <td>27038.47</td>\n",
       "      <td>8.0</td>\n",
       "      <td>835.98</td>\n",
       "      <td>No</td>\n",
       "      <td>Yes</td>\n",
       "      <td>Reasonable Price</td>\n",
       "    </tr>\n",
       "    <tr>\n",
       "      <th>36989</th>\n",
       "      <td>Unknown</td>\n",
       "      <td>Gold Membership</td>\n",
       "      <td>Yes</td>\n",
       "      <td>Without Offers</td>\n",
       "      <td>Unknown</td>\n",
       "      <td>272.13000</td>\n",
       "      <td>39305.35</td>\n",
       "      <td>27.0</td>\n",
       "      <td>714.90</td>\n",
       "      <td>Yes</td>\n",
       "      <td>Yes</td>\n",
       "      <td>Poor Customer Service</td>\n",
       "    </tr>\n",
       "    <tr>\n",
       "      <th>36990</th>\n",
       "      <td>City</td>\n",
       "      <td>Gold Membership</td>\n",
       "      <td>Yes</td>\n",
       "      <td>Without Offers</td>\n",
       "      <td>Desktop</td>\n",
       "      <td>65.07000</td>\n",
       "      <td>46108.73</td>\n",
       "      <td>6.0</td>\n",
       "      <td>744.99</td>\n",
       "      <td>No</td>\n",
       "      <td>Yes</td>\n",
       "      <td>Poor Website</td>\n",
       "    </tr>\n",
       "    <tr>\n",
       "      <th>36991</th>\n",
       "      <td>Town</td>\n",
       "      <td>Gold Membership</td>\n",
       "      <td>Unknown</td>\n",
       "      <td>Without Offers</td>\n",
       "      <td>Both</td>\n",
       "      <td>801.13375</td>\n",
       "      <td>26905.49</td>\n",
       "      <td>22.0</td>\n",
       "      <td>700.93</td>\n",
       "      <td>Yes</td>\n",
       "      <td>No</td>\n",
       "      <td>Poor Customer Service</td>\n",
       "    </tr>\n",
       "  </tbody>\n",
       "</table>\n",
       "<p>36992 rows × 12 columns</p>\n",
       "</div>"
      ],
      "text/plain": [
       "      kategori_wilayah kategori_membership bergabung_melalui_referral  \\\n",
       "0              Unknown       No Membership                        Yes   \n",
       "1              Unknown    Basic Membership                        Yes   \n",
       "2                 City   Silver Membership                    Unknown   \n",
       "3              Village       No Membership                         No   \n",
       "4                 Town   Silver Membership                    Unknown   \n",
       "...                ...                 ...                        ...   \n",
       "36987             Town     Gold Membership                    Unknown   \n",
       "36988             City     Gold Membership                        Yes   \n",
       "36989          Unknown     Gold Membership                        Yes   \n",
       "36990             City     Gold Membership                        Yes   \n",
       "36991             Town     Gold Membership                    Unknown   \n",
       "\n",
       "      jenis_penawaran_preferensi medium_operasi  rata_rata_waktu_dihabiskan  \\\n",
       "0                 Without Offers        Unknown                   801.13375   \n",
       "1                 Without Offers        Desktop                   338.15000   \n",
       "2       Credit/Debit Card Offers        Unknown                   235.14000   \n",
       "3       Credit/Debit Card Offers        Desktop                    56.67000   \n",
       "4          Gift Vouchers/Coupons     Smartphone                   153.99000   \n",
       "...                          ...            ...                         ...   \n",
       "36987   Credit/Debit Card Offers        Unknown                   199.33000   \n",
       "36988             Without Offers        Desktop                   368.50000   \n",
       "36989             Without Offers        Unknown                   272.13000   \n",
       "36990             Without Offers        Desktop                    65.07000   \n",
       "36991             Without Offers           Both                   801.13375   \n",
       "\n",
       "       rata_rata_nilai_transaksi  rata_rata_hari_login  poin_di_dompet  \\\n",
       "0                       38604.69                  10.0          627.48   \n",
       "1                        7665.66                  17.0          575.97   \n",
       "2                       37671.69                   5.0          767.93   \n",
       "3                       15678.14                  11.0          590.22   \n",
       "4                        8422.68                   0.0          722.04   \n",
       "...                          ...                   ...             ...   \n",
       "36987                   29455.29                   9.0          846.52   \n",
       "36988                   27038.47                   8.0          835.98   \n",
       "36989                   39305.35                  27.0          714.90   \n",
       "36990                   46108.73                   6.0          744.99   \n",
       "36991                   26905.49                  22.0          700.93   \n",
       "\n",
       "      menggunakan_diskon_khusus preferensi_aplikasi_penawaran  \\\n",
       "0                           Yes                           Yes   \n",
       "1                           Yes                            No   \n",
       "2                           Yes                            No   \n",
       "3                            No                           Yes   \n",
       "4                           Yes                            No   \n",
       "...                         ...                           ...   \n",
       "36987                       Yes                           Yes   \n",
       "36988                        No                           Yes   \n",
       "36989                       Yes                           Yes   \n",
       "36990                        No                           Yes   \n",
       "36991                       Yes                            No   \n",
       "\n",
       "                 umpan_balik  \n",
       "0               Poor Website  \n",
       "1      Poor Customer Service  \n",
       "2               Too many ads  \n",
       "3               Too many ads  \n",
       "4       Poor Product Quality  \n",
       "...                      ...  \n",
       "36987  User Friendly Website  \n",
       "36988       Reasonable Price  \n",
       "36989  Poor Customer Service  \n",
       "36990           Poor Website  \n",
       "36991  Poor Customer Service  \n",
       "\n",
       "[36992 rows x 12 columns]"
      ]
     },
     "execution_count": 5,
     "metadata": {},
     "output_type": "execute_result"
    }
   ],
   "source": [
    "X"
   ]
  },
  {
   "cell_type": "code",
   "execution_count": 6,
   "id": "a441f472",
   "metadata": {},
   "outputs": [
    {
     "data": {
      "text/html": [
       "<div>\n",
       "<style scoped>\n",
       "    .dataframe tbody tr th:only-of-type {\n",
       "        vertical-align: middle;\n",
       "    }\n",
       "\n",
       "    .dataframe tbody tr th {\n",
       "        vertical-align: top;\n",
       "    }\n",
       "\n",
       "    .dataframe thead th {\n",
       "        text-align: right;\n",
       "    }\n",
       "</style>\n",
       "<table border=\"1\" class=\"dataframe\">\n",
       "  <thead>\n",
       "    <tr style=\"text-align: right;\">\n",
       "      <th></th>\n",
       "      <th>churn_risk_score</th>\n",
       "    </tr>\n",
       "  </thead>\n",
       "  <tbody>\n",
       "    <tr>\n",
       "      <th>0</th>\n",
       "      <td>1.0</td>\n",
       "    </tr>\n",
       "    <tr>\n",
       "      <th>1</th>\n",
       "      <td>1.0</td>\n",
       "    </tr>\n",
       "    <tr>\n",
       "      <th>2</th>\n",
       "      <td>0.0</td>\n",
       "    </tr>\n",
       "    <tr>\n",
       "      <th>3</th>\n",
       "      <td>1.0</td>\n",
       "    </tr>\n",
       "    <tr>\n",
       "      <th>4</th>\n",
       "      <td>0.0</td>\n",
       "    </tr>\n",
       "    <tr>\n",
       "      <th>...</th>\n",
       "      <td>...</td>\n",
       "    </tr>\n",
       "    <tr>\n",
       "      <th>36987</th>\n",
       "      <td>0.0</td>\n",
       "    </tr>\n",
       "    <tr>\n",
       "      <th>36988</th>\n",
       "      <td>0.0</td>\n",
       "    </tr>\n",
       "    <tr>\n",
       "      <th>36989</th>\n",
       "      <td>0.0</td>\n",
       "    </tr>\n",
       "    <tr>\n",
       "      <th>36990</th>\n",
       "      <td>0.0</td>\n",
       "    </tr>\n",
       "    <tr>\n",
       "      <th>36991</th>\n",
       "      <td>1.0</td>\n",
       "    </tr>\n",
       "  </tbody>\n",
       "</table>\n",
       "<p>36992 rows × 1 columns</p>\n",
       "</div>"
      ],
      "text/plain": [
       "       churn_risk_score\n",
       "0                   1.0\n",
       "1                   1.0\n",
       "2                   0.0\n",
       "3                   1.0\n",
       "4                   0.0\n",
       "...                 ...\n",
       "36987               0.0\n",
       "36988               0.0\n",
       "36989               0.0\n",
       "36990               0.0\n",
       "36991               1.0\n",
       "\n",
       "[36992 rows x 1 columns]"
      ]
     },
     "execution_count": 6,
     "metadata": {},
     "output_type": "execute_result"
    }
   ],
   "source": [
    "y"
   ]
  },
  {
   "cell_type": "code",
   "execution_count": 7,
   "id": "81624a4b",
   "metadata": {},
   "outputs": [
    {
     "data": {
      "text/plain": [
       "kategori_wilayah                  object\n",
       "kategori_membership               object\n",
       "bergabung_melalui_referral        object\n",
       "jenis_penawaran_preferensi        object\n",
       "medium_operasi                    object\n",
       "rata_rata_waktu_dihabiskan       float64\n",
       "rata_rata_nilai_transaksi        float64\n",
       "rata_rata_hari_login             float64\n",
       "poin_di_dompet                   float64\n",
       "menggunakan_diskon_khusus         object\n",
       "preferensi_aplikasi_penawaran     object\n",
       "umpan_balik                       object\n",
       "dtype: object"
      ]
     },
     "execution_count": 7,
     "metadata": {},
     "output_type": "execute_result"
    }
   ],
   "source": [
    "X.dtypes"
   ]
  },
  {
   "cell_type": "markdown",
   "id": "9f102d9d",
   "metadata": {},
   "source": [
    "### Pipeline"
   ]
  },
  {
   "cell_type": "markdown",
   "id": "5d3b9cec",
   "metadata": {},
   "source": [
    "#### Sepertinya kita perlu mengubah data kategorikal menjadi numerikal dengan encoding"
   ]
  },
  {
   "cell_type": "code",
   "execution_count": 8,
   "id": "c4c9e179",
   "metadata": {},
   "outputs": [
    {
     "data": {
      "application/javascript": [
       "\n",
       "        if (window._pyforest_update_imports_cell) { window._pyforest_update_imports_cell('import pandas as pd\\nimport numpy as np'); }\n",
       "    "
      ],
      "text/plain": [
       "<IPython.core.display.Javascript object>"
      ]
     },
     "metadata": {},
     "output_type": "display_data"
    }
   ],
   "source": [
    "num_columns = X.select_dtypes(include=np.number).columns.to_list()\n",
    "kat_columns = X.select_dtypes(include=['object']).columns.to_list()"
   ]
  },
  {
   "cell_type": "code",
   "execution_count": 9,
   "id": "e7ff4b31",
   "metadata": {},
   "outputs": [
    {
     "data": {
      "text/plain": [
       "['rata_rata_waktu_dihabiskan',\n",
       " 'rata_rata_nilai_transaksi',\n",
       " 'rata_rata_hari_login',\n",
       " 'poin_di_dompet']"
      ]
     },
     "execution_count": 9,
     "metadata": {},
     "output_type": "execute_result"
    }
   ],
   "source": [
    "num_columns"
   ]
  },
  {
   "cell_type": "code",
   "execution_count": 10,
   "id": "f3fd0b46",
   "metadata": {},
   "outputs": [
    {
     "data": {
      "text/plain": [
       "['kategori_wilayah',\n",
       " 'kategori_membership',\n",
       " 'bergabung_melalui_referral',\n",
       " 'jenis_penawaran_preferensi',\n",
       " 'medium_operasi',\n",
       " 'menggunakan_diskon_khusus',\n",
       " 'preferensi_aplikasi_penawaran',\n",
       " 'umpan_balik']"
      ]
     },
     "execution_count": 10,
     "metadata": {},
     "output_type": "execute_result"
    }
   ],
   "source": [
    "kat_columns"
   ]
  },
  {
   "cell_type": "code",
   "execution_count": 11,
   "id": "d6163bd3",
   "metadata": {},
   "outputs": [],
   "source": [
    "X_final = X.copy()"
   ]
  },
  {
   "cell_type": "markdown",
   "id": "b61858ae",
   "metadata": {},
   "source": [
    "Jika kita ingat kembali hasil dari visualisasi ddistribusi data kita. Ada beberapa fitur yang mengalami persebaran data yang skew ataupun persebaran normal pada fitur numerikal.\n",
    "\n",
    "Lalu untuk setiap kolom kategorikal itu akan diterapkan one hot encoding. Dikarenakan data pada setiap fitur tersebut tidaklah sebuah tingkatan namun hanyal sebuah nominal."
   ]
  },
  {
   "cell_type": "code",
   "execution_count": 12,
   "id": "82c84b1d",
   "metadata": {},
   "outputs": [],
   "source": [
    "normal = ['rata_rata_nilai_transaksi','poin_di_dompet']\n",
    "skewn = ['rata_rata_hari_login', 'rata_rata_waktu_dihabiskan']"
   ]
  },
  {
   "cell_type": "code",
   "execution_count": 13,
   "id": "6219a89f",
   "metadata": {},
   "outputs": [
    {
     "data": {
      "text/html": [
       "<div>\n",
       "<style scoped>\n",
       "    .dataframe tbody tr th:only-of-type {\n",
       "        vertical-align: middle;\n",
       "    }\n",
       "\n",
       "    .dataframe tbody tr th {\n",
       "        vertical-align: top;\n",
       "    }\n",
       "\n",
       "    .dataframe thead th {\n",
       "        text-align: right;\n",
       "    }\n",
       "</style>\n",
       "<table border=\"1\" class=\"dataframe\">\n",
       "  <thead>\n",
       "    <tr style=\"text-align: right;\">\n",
       "      <th></th>\n",
       "      <th>rata_rata_hari_login</th>\n",
       "      <th>rata_rata_waktu_dihabiskan</th>\n",
       "    </tr>\n",
       "  </thead>\n",
       "  <tbody>\n",
       "    <tr>\n",
       "      <th>0</th>\n",
       "      <td>10.0</td>\n",
       "      <td>801.13375</td>\n",
       "    </tr>\n",
       "    <tr>\n",
       "      <th>1</th>\n",
       "      <td>17.0</td>\n",
       "      <td>338.15000</td>\n",
       "    </tr>\n",
       "    <tr>\n",
       "      <th>2</th>\n",
       "      <td>5.0</td>\n",
       "      <td>235.14000</td>\n",
       "    </tr>\n",
       "    <tr>\n",
       "      <th>3</th>\n",
       "      <td>11.0</td>\n",
       "      <td>56.67000</td>\n",
       "    </tr>\n",
       "    <tr>\n",
       "      <th>4</th>\n",
       "      <td>0.0</td>\n",
       "      <td>153.99000</td>\n",
       "    </tr>\n",
       "    <tr>\n",
       "      <th>...</th>\n",
       "      <td>...</td>\n",
       "      <td>...</td>\n",
       "    </tr>\n",
       "    <tr>\n",
       "      <th>36987</th>\n",
       "      <td>9.0</td>\n",
       "      <td>199.33000</td>\n",
       "    </tr>\n",
       "    <tr>\n",
       "      <th>36988</th>\n",
       "      <td>8.0</td>\n",
       "      <td>368.50000</td>\n",
       "    </tr>\n",
       "    <tr>\n",
       "      <th>36989</th>\n",
       "      <td>27.0</td>\n",
       "      <td>272.13000</td>\n",
       "    </tr>\n",
       "    <tr>\n",
       "      <th>36990</th>\n",
       "      <td>6.0</td>\n",
       "      <td>65.07000</td>\n",
       "    </tr>\n",
       "    <tr>\n",
       "      <th>36991</th>\n",
       "      <td>22.0</td>\n",
       "      <td>801.13375</td>\n",
       "    </tr>\n",
       "  </tbody>\n",
       "</table>\n",
       "<p>36992 rows × 2 columns</p>\n",
       "</div>"
      ],
      "text/plain": [
       "       rata_rata_hari_login  rata_rata_waktu_dihabiskan\n",
       "0                      10.0                   801.13375\n",
       "1                      17.0                   338.15000\n",
       "2                       5.0                   235.14000\n",
       "3                      11.0                    56.67000\n",
       "4                       0.0                   153.99000\n",
       "...                     ...                         ...\n",
       "36987                   9.0                   199.33000\n",
       "36988                   8.0                   368.50000\n",
       "36989                  27.0                   272.13000\n",
       "36990                   6.0                    65.07000\n",
       "36991                  22.0                   801.13375\n",
       "\n",
       "[36992 rows x 2 columns]"
      ]
     },
     "execution_count": 13,
     "metadata": {},
     "output_type": "execute_result"
    }
   ],
   "source": [
    "X_final[skewn]"
   ]
  },
  {
   "cell_type": "code",
   "execution_count": 14,
   "id": "cfbc6c91",
   "metadata": {},
   "outputs": [
    {
     "data": {
      "text/html": [
       "<div>\n",
       "<style scoped>\n",
       "    .dataframe tbody tr th:only-of-type {\n",
       "        vertical-align: middle;\n",
       "    }\n",
       "\n",
       "    .dataframe tbody tr th {\n",
       "        vertical-align: top;\n",
       "    }\n",
       "\n",
       "    .dataframe thead th {\n",
       "        text-align: right;\n",
       "    }\n",
       "</style>\n",
       "<table border=\"1\" class=\"dataframe\">\n",
       "  <thead>\n",
       "    <tr style=\"text-align: right;\">\n",
       "      <th></th>\n",
       "      <th>rata_rata_nilai_transaksi</th>\n",
       "      <th>poin_di_dompet</th>\n",
       "    </tr>\n",
       "  </thead>\n",
       "  <tbody>\n",
       "    <tr>\n",
       "      <th>0</th>\n",
       "      <td>38604.69</td>\n",
       "      <td>627.48</td>\n",
       "    </tr>\n",
       "    <tr>\n",
       "      <th>1</th>\n",
       "      <td>7665.66</td>\n",
       "      <td>575.97</td>\n",
       "    </tr>\n",
       "    <tr>\n",
       "      <th>2</th>\n",
       "      <td>37671.69</td>\n",
       "      <td>767.93</td>\n",
       "    </tr>\n",
       "    <tr>\n",
       "      <th>3</th>\n",
       "      <td>15678.14</td>\n",
       "      <td>590.22</td>\n",
       "    </tr>\n",
       "    <tr>\n",
       "      <th>4</th>\n",
       "      <td>8422.68</td>\n",
       "      <td>722.04</td>\n",
       "    </tr>\n",
       "    <tr>\n",
       "      <th>...</th>\n",
       "      <td>...</td>\n",
       "      <td>...</td>\n",
       "    </tr>\n",
       "    <tr>\n",
       "      <th>36987</th>\n",
       "      <td>29455.29</td>\n",
       "      <td>846.52</td>\n",
       "    </tr>\n",
       "    <tr>\n",
       "      <th>36988</th>\n",
       "      <td>27038.47</td>\n",
       "      <td>835.98</td>\n",
       "    </tr>\n",
       "    <tr>\n",
       "      <th>36989</th>\n",
       "      <td>39305.35</td>\n",
       "      <td>714.90</td>\n",
       "    </tr>\n",
       "    <tr>\n",
       "      <th>36990</th>\n",
       "      <td>46108.73</td>\n",
       "      <td>744.99</td>\n",
       "    </tr>\n",
       "    <tr>\n",
       "      <th>36991</th>\n",
       "      <td>26905.49</td>\n",
       "      <td>700.93</td>\n",
       "    </tr>\n",
       "  </tbody>\n",
       "</table>\n",
       "<p>36992 rows × 2 columns</p>\n",
       "</div>"
      ],
      "text/plain": [
       "       rata_rata_nilai_transaksi  poin_di_dompet\n",
       "0                       38604.69          627.48\n",
       "1                        7665.66          575.97\n",
       "2                       37671.69          767.93\n",
       "3                       15678.14          590.22\n",
       "4                        8422.68          722.04\n",
       "...                          ...             ...\n",
       "36987                   29455.29          846.52\n",
       "36988                   27038.47          835.98\n",
       "36989                   39305.35          714.90\n",
       "36990                   46108.73          744.99\n",
       "36991                   26905.49          700.93\n",
       "\n",
       "[36992 rows x 2 columns]"
      ]
     },
     "execution_count": 14,
     "metadata": {},
     "output_type": "execute_result"
    }
   ],
   "source": [
    "scaler_sc = StandardScaler()\n",
    "\n",
    "numerical_cols = X_final[normal]\n",
    "numerical_cols"
   ]
  },
  {
   "cell_type": "code",
   "execution_count": 15,
   "id": "fc885e19",
   "metadata": {},
   "outputs": [],
   "source": [
    "numerical_cols[normal] = scaler_sc.fit_transform(numerical_cols)"
   ]
  },
  {
   "cell_type": "code",
   "execution_count": 16,
   "id": "f3503919",
   "metadata": {},
   "outputs": [
    {
     "data": {
      "text/html": [
       "<div>\n",
       "<style scoped>\n",
       "    .dataframe tbody tr th:only-of-type {\n",
       "        vertical-align: middle;\n",
       "    }\n",
       "\n",
       "    .dataframe tbody tr th {\n",
       "        vertical-align: top;\n",
       "    }\n",
       "\n",
       "    .dataframe thead th {\n",
       "        text-align: right;\n",
       "    }\n",
       "</style>\n",
       "<table border=\"1\" class=\"dataframe\">\n",
       "  <thead>\n",
       "    <tr style=\"text-align: right;\">\n",
       "      <th></th>\n",
       "      <th>rata_rata_hari_login</th>\n",
       "      <th>rata_rata_waktu_dihabiskan</th>\n",
       "    </tr>\n",
       "  </thead>\n",
       "  <tbody>\n",
       "    <tr>\n",
       "      <th>0</th>\n",
       "      <td>10.0</td>\n",
       "      <td>801.13375</td>\n",
       "    </tr>\n",
       "    <tr>\n",
       "      <th>1</th>\n",
       "      <td>17.0</td>\n",
       "      <td>338.15000</td>\n",
       "    </tr>\n",
       "    <tr>\n",
       "      <th>2</th>\n",
       "      <td>5.0</td>\n",
       "      <td>235.14000</td>\n",
       "    </tr>\n",
       "    <tr>\n",
       "      <th>3</th>\n",
       "      <td>11.0</td>\n",
       "      <td>56.67000</td>\n",
       "    </tr>\n",
       "    <tr>\n",
       "      <th>4</th>\n",
       "      <td>0.0</td>\n",
       "      <td>153.99000</td>\n",
       "    </tr>\n",
       "    <tr>\n",
       "      <th>...</th>\n",
       "      <td>...</td>\n",
       "      <td>...</td>\n",
       "    </tr>\n",
       "    <tr>\n",
       "      <th>36987</th>\n",
       "      <td>9.0</td>\n",
       "      <td>199.33000</td>\n",
       "    </tr>\n",
       "    <tr>\n",
       "      <th>36988</th>\n",
       "      <td>8.0</td>\n",
       "      <td>368.50000</td>\n",
       "    </tr>\n",
       "    <tr>\n",
       "      <th>36989</th>\n",
       "      <td>27.0</td>\n",
       "      <td>272.13000</td>\n",
       "    </tr>\n",
       "    <tr>\n",
       "      <th>36990</th>\n",
       "      <td>6.0</td>\n",
       "      <td>65.07000</td>\n",
       "    </tr>\n",
       "    <tr>\n",
       "      <th>36991</th>\n",
       "      <td>22.0</td>\n",
       "      <td>801.13375</td>\n",
       "    </tr>\n",
       "  </tbody>\n",
       "</table>\n",
       "<p>36992 rows × 2 columns</p>\n",
       "</div>"
      ],
      "text/plain": [
       "       rata_rata_hari_login  rata_rata_waktu_dihabiskan\n",
       "0                      10.0                   801.13375\n",
       "1                      17.0                   338.15000\n",
       "2                       5.0                   235.14000\n",
       "3                      11.0                    56.67000\n",
       "4                       0.0                   153.99000\n",
       "...                     ...                         ...\n",
       "36987                   9.0                   199.33000\n",
       "36988                   8.0                   368.50000\n",
       "36989                  27.0                   272.13000\n",
       "36990                   6.0                    65.07000\n",
       "36991                  22.0                   801.13375\n",
       "\n",
       "[36992 rows x 2 columns]"
      ]
     },
     "execution_count": 16,
     "metadata": {},
     "output_type": "execute_result"
    }
   ],
   "source": [
    "numerical_cols2 = X_final[skewn]\n",
    "numerical_cols2"
   ]
  },
  {
   "cell_type": "code",
   "execution_count": 17,
   "id": "5e62670e",
   "metadata": {},
   "outputs": [],
   "source": [
    "scaler_mx = MinMaxScaler()\n",
    "\n",
    "numerical_cols2[skewn] = scaler_mx.fit_transform(numerical_cols2)"
   ]
  },
  {
   "cell_type": "code",
   "execution_count": 18,
   "id": "a10ad440",
   "metadata": {},
   "outputs": [
    {
     "data": {
      "application/javascript": [
       "\n",
       "        if (window._pyforest_update_imports_cell) { window._pyforest_update_imports_cell('import pandas as pd\\nimport numpy as np'); }\n",
       "    "
      ],
      "text/plain": [
       "<IPython.core.display.Javascript object>"
      ]
     },
     "metadata": {},
     "output_type": "display_data"
    },
    {
     "data": {
      "text/html": [
       "<div>\n",
       "<style scoped>\n",
       "    .dataframe tbody tr th:only-of-type {\n",
       "        vertical-align: middle;\n",
       "    }\n",
       "\n",
       "    .dataframe tbody tr th {\n",
       "        vertical-align: top;\n",
       "    }\n",
       "\n",
       "    .dataframe thead th {\n",
       "        text-align: right;\n",
       "    }\n",
       "</style>\n",
       "<table border=\"1\" class=\"dataframe\">\n",
       "  <thead>\n",
       "    <tr style=\"text-align: right;\">\n",
       "      <th></th>\n",
       "      <th>rata_rata_nilai_transaksi</th>\n",
       "      <th>poin_di_dompet</th>\n",
       "      <th>rata_rata_hari_login</th>\n",
       "      <th>rata_rata_waktu_dihabiskan</th>\n",
       "    </tr>\n",
       "  </thead>\n",
       "  <tbody>\n",
       "    <tr>\n",
       "      <th>0</th>\n",
       "      <td>0.517824</td>\n",
       "      <td>-0.116731</td>\n",
       "      <td>0.224719</td>\n",
       "      <td>1.000000</td>\n",
       "    </tr>\n",
       "    <tr>\n",
       "      <th>1</th>\n",
       "      <td>-1.147816</td>\n",
       "      <td>-0.393705</td>\n",
       "      <td>0.382022</td>\n",
       "      <td>0.422089</td>\n",
       "    </tr>\n",
       "    <tr>\n",
       "      <th>2</th>\n",
       "      <td>0.467595</td>\n",
       "      <td>0.638481</td>\n",
       "      <td>0.112360</td>\n",
       "      <td>0.293509</td>\n",
       "    </tr>\n",
       "    <tr>\n",
       "      <th>3</th>\n",
       "      <td>-0.716455</td>\n",
       "      <td>-0.317082</td>\n",
       "      <td>0.247191</td>\n",
       "      <td>0.070737</td>\n",
       "    </tr>\n",
       "    <tr>\n",
       "      <th>4</th>\n",
       "      <td>-1.107061</td>\n",
       "      <td>0.391726</td>\n",
       "      <td>0.000000</td>\n",
       "      <td>0.192215</td>\n",
       "    </tr>\n",
       "    <tr>\n",
       "      <th>...</th>\n",
       "      <td>...</td>\n",
       "      <td>...</td>\n",
       "      <td>...</td>\n",
       "      <td>...</td>\n",
       "    </tr>\n",
       "    <tr>\n",
       "      <th>36987</th>\n",
       "      <td>0.025255</td>\n",
       "      <td>1.061067</td>\n",
       "      <td>0.202247</td>\n",
       "      <td>0.248810</td>\n",
       "    </tr>\n",
       "    <tr>\n",
       "      <th>36988</th>\n",
       "      <td>-0.104857</td>\n",
       "      <td>1.004392</td>\n",
       "      <td>0.179775</td>\n",
       "      <td>0.459973</td>\n",
       "    </tr>\n",
       "    <tr>\n",
       "      <th>36989</th>\n",
       "      <td>0.555545</td>\n",
       "      <td>0.353334</td>\n",
       "      <td>0.606742</td>\n",
       "      <td>0.339681</td>\n",
       "    </tr>\n",
       "    <tr>\n",
       "      <th>36990</th>\n",
       "      <td>0.921813</td>\n",
       "      <td>0.515131</td>\n",
       "      <td>0.134831</td>\n",
       "      <td>0.081222</td>\n",
       "    </tr>\n",
       "    <tr>\n",
       "      <th>36991</th>\n",
       "      <td>-0.112017</td>\n",
       "      <td>0.278216</td>\n",
       "      <td>0.494382</td>\n",
       "      <td>1.000000</td>\n",
       "    </tr>\n",
       "  </tbody>\n",
       "</table>\n",
       "<p>36992 rows × 4 columns</p>\n",
       "</div>"
      ],
      "text/plain": [
       "       rata_rata_nilai_transaksi  poin_di_dompet  rata_rata_hari_login  \\\n",
       "0                       0.517824       -0.116731              0.224719   \n",
       "1                      -1.147816       -0.393705              0.382022   \n",
       "2                       0.467595        0.638481              0.112360   \n",
       "3                      -0.716455       -0.317082              0.247191   \n",
       "4                      -1.107061        0.391726              0.000000   \n",
       "...                          ...             ...                   ...   \n",
       "36987                   0.025255        1.061067              0.202247   \n",
       "36988                  -0.104857        1.004392              0.179775   \n",
       "36989                   0.555545        0.353334              0.606742   \n",
       "36990                   0.921813        0.515131              0.134831   \n",
       "36991                  -0.112017        0.278216              0.494382   \n",
       "\n",
       "       rata_rata_waktu_dihabiskan  \n",
       "0                        1.000000  \n",
       "1                        0.422089  \n",
       "2                        0.293509  \n",
       "3                        0.070737  \n",
       "4                        0.192215  \n",
       "...                           ...  \n",
       "36987                    0.248810  \n",
       "36988                    0.459973  \n",
       "36989                    0.339681  \n",
       "36990                    0.081222  \n",
       "36991                    1.000000  \n",
       "\n",
       "[36992 rows x 4 columns]"
      ]
     },
     "execution_count": 18,
     "metadata": {},
     "output_type": "execute_result"
    }
   ],
   "source": [
    "numerical_df = pd.concat([numerical_cols, numerical_cols2], axis=1)\n",
    "numerical_df"
   ]
  },
  {
   "cell_type": "code",
   "execution_count": 19,
   "id": "ced3a60c",
   "metadata": {},
   "outputs": [
    {
     "data": {
      "text/html": [
       "<div>\n",
       "<style scoped>\n",
       "    .dataframe tbody tr th:only-of-type {\n",
       "        vertical-align: middle;\n",
       "    }\n",
       "\n",
       "    .dataframe tbody tr th {\n",
       "        vertical-align: top;\n",
       "    }\n",
       "\n",
       "    .dataframe thead th {\n",
       "        text-align: right;\n",
       "    }\n",
       "</style>\n",
       "<table border=\"1\" class=\"dataframe\">\n",
       "  <thead>\n",
       "    <tr style=\"text-align: right;\">\n",
       "      <th></th>\n",
       "      <th>kategori_wilayah</th>\n",
       "      <th>kategori_membership</th>\n",
       "      <th>bergabung_melalui_referral</th>\n",
       "      <th>jenis_penawaran_preferensi</th>\n",
       "      <th>medium_operasi</th>\n",
       "      <th>menggunakan_diskon_khusus</th>\n",
       "      <th>preferensi_aplikasi_penawaran</th>\n",
       "      <th>umpan_balik</th>\n",
       "    </tr>\n",
       "  </thead>\n",
       "  <tbody>\n",
       "    <tr>\n",
       "      <th>0</th>\n",
       "      <td>Unknown</td>\n",
       "      <td>No Membership</td>\n",
       "      <td>Yes</td>\n",
       "      <td>Without Offers</td>\n",
       "      <td>Unknown</td>\n",
       "      <td>Yes</td>\n",
       "      <td>Yes</td>\n",
       "      <td>Poor Website</td>\n",
       "    </tr>\n",
       "    <tr>\n",
       "      <th>1</th>\n",
       "      <td>Unknown</td>\n",
       "      <td>Basic Membership</td>\n",
       "      <td>Yes</td>\n",
       "      <td>Without Offers</td>\n",
       "      <td>Desktop</td>\n",
       "      <td>Yes</td>\n",
       "      <td>No</td>\n",
       "      <td>Poor Customer Service</td>\n",
       "    </tr>\n",
       "    <tr>\n",
       "      <th>2</th>\n",
       "      <td>City</td>\n",
       "      <td>Silver Membership</td>\n",
       "      <td>Unknown</td>\n",
       "      <td>Credit/Debit Card Offers</td>\n",
       "      <td>Unknown</td>\n",
       "      <td>Yes</td>\n",
       "      <td>No</td>\n",
       "      <td>Too many ads</td>\n",
       "    </tr>\n",
       "    <tr>\n",
       "      <th>3</th>\n",
       "      <td>Village</td>\n",
       "      <td>No Membership</td>\n",
       "      <td>No</td>\n",
       "      <td>Credit/Debit Card Offers</td>\n",
       "      <td>Desktop</td>\n",
       "      <td>No</td>\n",
       "      <td>Yes</td>\n",
       "      <td>Too many ads</td>\n",
       "    </tr>\n",
       "    <tr>\n",
       "      <th>4</th>\n",
       "      <td>Town</td>\n",
       "      <td>Silver Membership</td>\n",
       "      <td>Unknown</td>\n",
       "      <td>Gift Vouchers/Coupons</td>\n",
       "      <td>Smartphone</td>\n",
       "      <td>Yes</td>\n",
       "      <td>No</td>\n",
       "      <td>Poor Product Quality</td>\n",
       "    </tr>\n",
       "  </tbody>\n",
       "</table>\n",
       "</div>"
      ],
      "text/plain": [
       "  kategori_wilayah kategori_membership bergabung_melalui_referral  \\\n",
       "0          Unknown       No Membership                        Yes   \n",
       "1          Unknown    Basic Membership                        Yes   \n",
       "2             City   Silver Membership                    Unknown   \n",
       "3          Village       No Membership                         No   \n",
       "4             Town   Silver Membership                    Unknown   \n",
       "\n",
       "  jenis_penawaran_preferensi medium_operasi menggunakan_diskon_khusus  \\\n",
       "0             Without Offers        Unknown                       Yes   \n",
       "1             Without Offers        Desktop                       Yes   \n",
       "2   Credit/Debit Card Offers        Unknown                       Yes   \n",
       "3   Credit/Debit Card Offers        Desktop                        No   \n",
       "4      Gift Vouchers/Coupons     Smartphone                       Yes   \n",
       "\n",
       "  preferensi_aplikasi_penawaran            umpan_balik  \n",
       "0                           Yes           Poor Website  \n",
       "1                            No  Poor Customer Service  \n",
       "2                            No           Too many ads  \n",
       "3                           Yes           Too many ads  \n",
       "4                            No   Poor Product Quality  "
      ]
     },
     "execution_count": 19,
     "metadata": {},
     "output_type": "execute_result"
    }
   ],
   "source": [
    "kategorikal = X_final[kat_columns]\n",
    "kategorikal.head()"
   ]
  },
  {
   "cell_type": "code",
   "execution_count": 20,
   "id": "eca32821",
   "metadata": {},
   "outputs": [
    {
     "name": "stdout",
     "output_type": "stream",
     "text": [
      "<class 'pandas.core.frame.DataFrame'>\n",
      "RangeIndex: 36992 entries, 0 to 36991\n",
      "Data columns (total 8 columns):\n",
      " #   Column                         Non-Null Count  Dtype \n",
      "---  ------                         --------------  ----- \n",
      " 0   kategori_wilayah               36992 non-null  object\n",
      " 1   kategori_membership            36992 non-null  object\n",
      " 2   bergabung_melalui_referral     36992 non-null  object\n",
      " 3   jenis_penawaran_preferensi     36992 non-null  object\n",
      " 4   medium_operasi                 36992 non-null  object\n",
      " 5   menggunakan_diskon_khusus      36992 non-null  object\n",
      " 6   preferensi_aplikasi_penawaran  36992 non-null  object\n",
      " 7   umpan_balik                    36992 non-null  object\n",
      "dtypes: object(8)\n",
      "memory usage: 2.3+ MB\n"
     ]
    }
   ],
   "source": [
    "kategorikal.info()"
   ]
  },
  {
   "cell_type": "code",
   "execution_count": 21,
   "id": "5365e1d0",
   "metadata": {},
   "outputs": [
    {
     "data": {
      "application/javascript": [
       "\n",
       "        if (window._pyforest_update_imports_cell) { window._pyforest_update_imports_cell('import pandas as pd\\nimport numpy as np'); }\n",
       "    "
      ],
      "text/plain": [
       "<IPython.core.display.Javascript object>"
      ]
     },
     "metadata": {},
     "output_type": "display_data"
    }
   ],
   "source": [
    "encoder = OneHotEncoder(sparse_output=False)\n",
    "\n",
    "kategorikal_encoded = encoder.fit_transform(kategorikal)\n",
    "encoded_columns = encoder.get_feature_names_out(input_features=kat_columns)\n",
    "kategorikal_encoded_df = pd.DataFrame(kategorikal_encoded, columns=encoded_columns)\n"
   ]
  },
  {
   "cell_type": "code",
   "execution_count": 22,
   "id": "bf2929c5",
   "metadata": {},
   "outputs": [
    {
     "data": {
      "text/html": [
       "<div>\n",
       "<style scoped>\n",
       "    .dataframe tbody tr th:only-of-type {\n",
       "        vertical-align: middle;\n",
       "    }\n",
       "\n",
       "    .dataframe tbody tr th {\n",
       "        vertical-align: top;\n",
       "    }\n",
       "\n",
       "    .dataframe thead th {\n",
       "        text-align: right;\n",
       "    }\n",
       "</style>\n",
       "<table border=\"1\" class=\"dataframe\">\n",
       "  <thead>\n",
       "    <tr style=\"text-align: right;\">\n",
       "      <th></th>\n",
       "      <th>kategori_wilayah_City</th>\n",
       "      <th>kategori_wilayah_Town</th>\n",
       "      <th>kategori_wilayah_Unknown</th>\n",
       "      <th>kategori_wilayah_Village</th>\n",
       "      <th>kategori_membership_Basic Membership</th>\n",
       "      <th>kategori_membership_Gold Membership</th>\n",
       "      <th>kategori_membership_No Membership</th>\n",
       "      <th>kategori_membership_Platinum Membership</th>\n",
       "      <th>kategori_membership_Premium Membership</th>\n",
       "      <th>kategori_membership_Silver Membership</th>\n",
       "      <th>...</th>\n",
       "      <th>preferensi_aplikasi_penawaran_Yes</th>\n",
       "      <th>umpan_balik_No reason specified</th>\n",
       "      <th>umpan_balik_Poor Customer Service</th>\n",
       "      <th>umpan_balik_Poor Product Quality</th>\n",
       "      <th>umpan_balik_Poor Website</th>\n",
       "      <th>umpan_balik_Products always in Stock</th>\n",
       "      <th>umpan_balik_Quality Customer Care</th>\n",
       "      <th>umpan_balik_Reasonable Price</th>\n",
       "      <th>umpan_balik_Too many ads</th>\n",
       "      <th>umpan_balik_User Friendly Website</th>\n",
       "    </tr>\n",
       "  </thead>\n",
       "  <tbody>\n",
       "    <tr>\n",
       "      <th>0</th>\n",
       "      <td>0.0</td>\n",
       "      <td>0.0</td>\n",
       "      <td>1.0</td>\n",
       "      <td>0.0</td>\n",
       "      <td>0.0</td>\n",
       "      <td>0.0</td>\n",
       "      <td>1.0</td>\n",
       "      <td>0.0</td>\n",
       "      <td>0.0</td>\n",
       "      <td>0.0</td>\n",
       "      <td>...</td>\n",
       "      <td>1.0</td>\n",
       "      <td>0.0</td>\n",
       "      <td>0.0</td>\n",
       "      <td>0.0</td>\n",
       "      <td>1.0</td>\n",
       "      <td>0.0</td>\n",
       "      <td>0.0</td>\n",
       "      <td>0.0</td>\n",
       "      <td>0.0</td>\n",
       "      <td>0.0</td>\n",
       "    </tr>\n",
       "    <tr>\n",
       "      <th>1</th>\n",
       "      <td>0.0</td>\n",
       "      <td>0.0</td>\n",
       "      <td>1.0</td>\n",
       "      <td>0.0</td>\n",
       "      <td>1.0</td>\n",
       "      <td>0.0</td>\n",
       "      <td>0.0</td>\n",
       "      <td>0.0</td>\n",
       "      <td>0.0</td>\n",
       "      <td>0.0</td>\n",
       "      <td>...</td>\n",
       "      <td>0.0</td>\n",
       "      <td>0.0</td>\n",
       "      <td>1.0</td>\n",
       "      <td>0.0</td>\n",
       "      <td>0.0</td>\n",
       "      <td>0.0</td>\n",
       "      <td>0.0</td>\n",
       "      <td>0.0</td>\n",
       "      <td>0.0</td>\n",
       "      <td>0.0</td>\n",
       "    </tr>\n",
       "    <tr>\n",
       "      <th>2</th>\n",
       "      <td>1.0</td>\n",
       "      <td>0.0</td>\n",
       "      <td>0.0</td>\n",
       "      <td>0.0</td>\n",
       "      <td>0.0</td>\n",
       "      <td>0.0</td>\n",
       "      <td>0.0</td>\n",
       "      <td>0.0</td>\n",
       "      <td>0.0</td>\n",
       "      <td>1.0</td>\n",
       "      <td>...</td>\n",
       "      <td>0.0</td>\n",
       "      <td>0.0</td>\n",
       "      <td>0.0</td>\n",
       "      <td>0.0</td>\n",
       "      <td>0.0</td>\n",
       "      <td>0.0</td>\n",
       "      <td>0.0</td>\n",
       "      <td>0.0</td>\n",
       "      <td>1.0</td>\n",
       "      <td>0.0</td>\n",
       "    </tr>\n",
       "  </tbody>\n",
       "</table>\n",
       "<p>3 rows × 34 columns</p>\n",
       "</div>"
      ],
      "text/plain": [
       "   kategori_wilayah_City  kategori_wilayah_Town  kategori_wilayah_Unknown  \\\n",
       "0                    0.0                    0.0                       1.0   \n",
       "1                    0.0                    0.0                       1.0   \n",
       "2                    1.0                    0.0                       0.0   \n",
       "\n",
       "   kategori_wilayah_Village  kategori_membership_Basic Membership  \\\n",
       "0                       0.0                                   0.0   \n",
       "1                       0.0                                   1.0   \n",
       "2                       0.0                                   0.0   \n",
       "\n",
       "   kategori_membership_Gold Membership  kategori_membership_No Membership  \\\n",
       "0                                  0.0                                1.0   \n",
       "1                                  0.0                                0.0   \n",
       "2                                  0.0                                0.0   \n",
       "\n",
       "   kategori_membership_Platinum Membership  \\\n",
       "0                                      0.0   \n",
       "1                                      0.0   \n",
       "2                                      0.0   \n",
       "\n",
       "   kategori_membership_Premium Membership  \\\n",
       "0                                     0.0   \n",
       "1                                     0.0   \n",
       "2                                     0.0   \n",
       "\n",
       "   kategori_membership_Silver Membership  ...  \\\n",
       "0                                    0.0  ...   \n",
       "1                                    0.0  ...   \n",
       "2                                    1.0  ...   \n",
       "\n",
       "   preferensi_aplikasi_penawaran_Yes  umpan_balik_No reason specified  \\\n",
       "0                                1.0                              0.0   \n",
       "1                                0.0                              0.0   \n",
       "2                                0.0                              0.0   \n",
       "\n",
       "   umpan_balik_Poor Customer Service  umpan_balik_Poor Product Quality  \\\n",
       "0                                0.0                               0.0   \n",
       "1                                1.0                               0.0   \n",
       "2                                0.0                               0.0   \n",
       "\n",
       "   umpan_balik_Poor Website  umpan_balik_Products always in Stock  \\\n",
       "0                       1.0                                   0.0   \n",
       "1                       0.0                                   0.0   \n",
       "2                       0.0                                   0.0   \n",
       "\n",
       "   umpan_balik_Quality Customer Care  umpan_balik_Reasonable Price  \\\n",
       "0                                0.0                           0.0   \n",
       "1                                0.0                           0.0   \n",
       "2                                0.0                           0.0   \n",
       "\n",
       "   umpan_balik_Too many ads  umpan_balik_User Friendly Website  \n",
       "0                       0.0                                0.0  \n",
       "1                       0.0                                0.0  \n",
       "2                       1.0                                0.0  \n",
       "\n",
       "[3 rows x 34 columns]"
      ]
     },
     "execution_count": 22,
     "metadata": {},
     "output_type": "execute_result"
    }
   ],
   "source": [
    "kategorikal_encoded_df.head(3)"
   ]
  },
  {
   "cell_type": "code",
   "execution_count": 23,
   "id": "9e234c77",
   "metadata": {},
   "outputs": [
    {
     "data": {
      "application/javascript": [
       "\n",
       "        if (window._pyforest_update_imports_cell) { window._pyforest_update_imports_cell('import pandas as pd\\nimport numpy as np'); }\n",
       "    "
      ],
      "text/plain": [
       "<IPython.core.display.Javascript object>"
      ]
     },
     "metadata": {},
     "output_type": "display_data"
    },
    {
     "data": {
      "text/html": [
       "<div>\n",
       "<style scoped>\n",
       "    .dataframe tbody tr th:only-of-type {\n",
       "        vertical-align: middle;\n",
       "    }\n",
       "\n",
       "    .dataframe tbody tr th {\n",
       "        vertical-align: top;\n",
       "    }\n",
       "\n",
       "    .dataframe thead th {\n",
       "        text-align: right;\n",
       "    }\n",
       "</style>\n",
       "<table border=\"1\" class=\"dataframe\">\n",
       "  <thead>\n",
       "    <tr style=\"text-align: right;\">\n",
       "      <th></th>\n",
       "      <th>rata_rata_nilai_transaksi</th>\n",
       "      <th>poin_di_dompet</th>\n",
       "      <th>rata_rata_hari_login</th>\n",
       "      <th>rata_rata_waktu_dihabiskan</th>\n",
       "      <th>kategori_wilayah_City</th>\n",
       "      <th>kategori_wilayah_Town</th>\n",
       "      <th>kategori_wilayah_Unknown</th>\n",
       "      <th>kategori_wilayah_Village</th>\n",
       "      <th>kategori_membership_Basic Membership</th>\n",
       "      <th>kategori_membership_Gold Membership</th>\n",
       "      <th>...</th>\n",
       "      <th>preferensi_aplikasi_penawaran_Yes</th>\n",
       "      <th>umpan_balik_No reason specified</th>\n",
       "      <th>umpan_balik_Poor Customer Service</th>\n",
       "      <th>umpan_balik_Poor Product Quality</th>\n",
       "      <th>umpan_balik_Poor Website</th>\n",
       "      <th>umpan_balik_Products always in Stock</th>\n",
       "      <th>umpan_balik_Quality Customer Care</th>\n",
       "      <th>umpan_balik_Reasonable Price</th>\n",
       "      <th>umpan_balik_Too many ads</th>\n",
       "      <th>umpan_balik_User Friendly Website</th>\n",
       "    </tr>\n",
       "  </thead>\n",
       "  <tbody>\n",
       "    <tr>\n",
       "      <th>0</th>\n",
       "      <td>0.517824</td>\n",
       "      <td>-0.116731</td>\n",
       "      <td>0.224719</td>\n",
       "      <td>1.000000</td>\n",
       "      <td>0.0</td>\n",
       "      <td>0.0</td>\n",
       "      <td>1.0</td>\n",
       "      <td>0.0</td>\n",
       "      <td>0.0</td>\n",
       "      <td>0.0</td>\n",
       "      <td>...</td>\n",
       "      <td>1.0</td>\n",
       "      <td>0.0</td>\n",
       "      <td>0.0</td>\n",
       "      <td>0.0</td>\n",
       "      <td>1.0</td>\n",
       "      <td>0.0</td>\n",
       "      <td>0.0</td>\n",
       "      <td>0.0</td>\n",
       "      <td>0.0</td>\n",
       "      <td>0.0</td>\n",
       "    </tr>\n",
       "    <tr>\n",
       "      <th>1</th>\n",
       "      <td>-1.147816</td>\n",
       "      <td>-0.393705</td>\n",
       "      <td>0.382022</td>\n",
       "      <td>0.422089</td>\n",
       "      <td>0.0</td>\n",
       "      <td>0.0</td>\n",
       "      <td>1.0</td>\n",
       "      <td>0.0</td>\n",
       "      <td>1.0</td>\n",
       "      <td>0.0</td>\n",
       "      <td>...</td>\n",
       "      <td>0.0</td>\n",
       "      <td>0.0</td>\n",
       "      <td>1.0</td>\n",
       "      <td>0.0</td>\n",
       "      <td>0.0</td>\n",
       "      <td>0.0</td>\n",
       "      <td>0.0</td>\n",
       "      <td>0.0</td>\n",
       "      <td>0.0</td>\n",
       "      <td>0.0</td>\n",
       "    </tr>\n",
       "    <tr>\n",
       "      <th>2</th>\n",
       "      <td>0.467595</td>\n",
       "      <td>0.638481</td>\n",
       "      <td>0.112360</td>\n",
       "      <td>0.293509</td>\n",
       "      <td>1.0</td>\n",
       "      <td>0.0</td>\n",
       "      <td>0.0</td>\n",
       "      <td>0.0</td>\n",
       "      <td>0.0</td>\n",
       "      <td>0.0</td>\n",
       "      <td>...</td>\n",
       "      <td>0.0</td>\n",
       "      <td>0.0</td>\n",
       "      <td>0.0</td>\n",
       "      <td>0.0</td>\n",
       "      <td>0.0</td>\n",
       "      <td>0.0</td>\n",
       "      <td>0.0</td>\n",
       "      <td>0.0</td>\n",
       "      <td>1.0</td>\n",
       "      <td>0.0</td>\n",
       "    </tr>\n",
       "    <tr>\n",
       "      <th>3</th>\n",
       "      <td>-0.716455</td>\n",
       "      <td>-0.317082</td>\n",
       "      <td>0.247191</td>\n",
       "      <td>0.070737</td>\n",
       "      <td>0.0</td>\n",
       "      <td>0.0</td>\n",
       "      <td>0.0</td>\n",
       "      <td>1.0</td>\n",
       "      <td>0.0</td>\n",
       "      <td>0.0</td>\n",
       "      <td>...</td>\n",
       "      <td>1.0</td>\n",
       "      <td>0.0</td>\n",
       "      <td>0.0</td>\n",
       "      <td>0.0</td>\n",
       "      <td>0.0</td>\n",
       "      <td>0.0</td>\n",
       "      <td>0.0</td>\n",
       "      <td>0.0</td>\n",
       "      <td>1.0</td>\n",
       "      <td>0.0</td>\n",
       "    </tr>\n",
       "    <tr>\n",
       "      <th>4</th>\n",
       "      <td>-1.107061</td>\n",
       "      <td>0.391726</td>\n",
       "      <td>0.000000</td>\n",
       "      <td>0.192215</td>\n",
       "      <td>0.0</td>\n",
       "      <td>1.0</td>\n",
       "      <td>0.0</td>\n",
       "      <td>0.0</td>\n",
       "      <td>0.0</td>\n",
       "      <td>0.0</td>\n",
       "      <td>...</td>\n",
       "      <td>0.0</td>\n",
       "      <td>0.0</td>\n",
       "      <td>0.0</td>\n",
       "      <td>1.0</td>\n",
       "      <td>0.0</td>\n",
       "      <td>0.0</td>\n",
       "      <td>0.0</td>\n",
       "      <td>0.0</td>\n",
       "      <td>0.0</td>\n",
       "      <td>0.0</td>\n",
       "    </tr>\n",
       "    <tr>\n",
       "      <th>...</th>\n",
       "      <td>...</td>\n",
       "      <td>...</td>\n",
       "      <td>...</td>\n",
       "      <td>...</td>\n",
       "      <td>...</td>\n",
       "      <td>...</td>\n",
       "      <td>...</td>\n",
       "      <td>...</td>\n",
       "      <td>...</td>\n",
       "      <td>...</td>\n",
       "      <td>...</td>\n",
       "      <td>...</td>\n",
       "      <td>...</td>\n",
       "      <td>...</td>\n",
       "      <td>...</td>\n",
       "      <td>...</td>\n",
       "      <td>...</td>\n",
       "      <td>...</td>\n",
       "      <td>...</td>\n",
       "      <td>...</td>\n",
       "      <td>...</td>\n",
       "    </tr>\n",
       "    <tr>\n",
       "      <th>36987</th>\n",
       "      <td>0.025255</td>\n",
       "      <td>1.061067</td>\n",
       "      <td>0.202247</td>\n",
       "      <td>0.248810</td>\n",
       "      <td>0.0</td>\n",
       "      <td>1.0</td>\n",
       "      <td>0.0</td>\n",
       "      <td>0.0</td>\n",
       "      <td>0.0</td>\n",
       "      <td>1.0</td>\n",
       "      <td>...</td>\n",
       "      <td>1.0</td>\n",
       "      <td>0.0</td>\n",
       "      <td>0.0</td>\n",
       "      <td>0.0</td>\n",
       "      <td>0.0</td>\n",
       "      <td>0.0</td>\n",
       "      <td>0.0</td>\n",
       "      <td>0.0</td>\n",
       "      <td>0.0</td>\n",
       "      <td>1.0</td>\n",
       "    </tr>\n",
       "    <tr>\n",
       "      <th>36988</th>\n",
       "      <td>-0.104857</td>\n",
       "      <td>1.004392</td>\n",
       "      <td>0.179775</td>\n",
       "      <td>0.459973</td>\n",
       "      <td>1.0</td>\n",
       "      <td>0.0</td>\n",
       "      <td>0.0</td>\n",
       "      <td>0.0</td>\n",
       "      <td>0.0</td>\n",
       "      <td>1.0</td>\n",
       "      <td>...</td>\n",
       "      <td>1.0</td>\n",
       "      <td>0.0</td>\n",
       "      <td>0.0</td>\n",
       "      <td>0.0</td>\n",
       "      <td>0.0</td>\n",
       "      <td>0.0</td>\n",
       "      <td>0.0</td>\n",
       "      <td>1.0</td>\n",
       "      <td>0.0</td>\n",
       "      <td>0.0</td>\n",
       "    </tr>\n",
       "    <tr>\n",
       "      <th>36989</th>\n",
       "      <td>0.555545</td>\n",
       "      <td>0.353334</td>\n",
       "      <td>0.606742</td>\n",
       "      <td>0.339681</td>\n",
       "      <td>0.0</td>\n",
       "      <td>0.0</td>\n",
       "      <td>1.0</td>\n",
       "      <td>0.0</td>\n",
       "      <td>0.0</td>\n",
       "      <td>1.0</td>\n",
       "      <td>...</td>\n",
       "      <td>1.0</td>\n",
       "      <td>0.0</td>\n",
       "      <td>1.0</td>\n",
       "      <td>0.0</td>\n",
       "      <td>0.0</td>\n",
       "      <td>0.0</td>\n",
       "      <td>0.0</td>\n",
       "      <td>0.0</td>\n",
       "      <td>0.0</td>\n",
       "      <td>0.0</td>\n",
       "    </tr>\n",
       "    <tr>\n",
       "      <th>36990</th>\n",
       "      <td>0.921813</td>\n",
       "      <td>0.515131</td>\n",
       "      <td>0.134831</td>\n",
       "      <td>0.081222</td>\n",
       "      <td>1.0</td>\n",
       "      <td>0.0</td>\n",
       "      <td>0.0</td>\n",
       "      <td>0.0</td>\n",
       "      <td>0.0</td>\n",
       "      <td>1.0</td>\n",
       "      <td>...</td>\n",
       "      <td>1.0</td>\n",
       "      <td>0.0</td>\n",
       "      <td>0.0</td>\n",
       "      <td>0.0</td>\n",
       "      <td>1.0</td>\n",
       "      <td>0.0</td>\n",
       "      <td>0.0</td>\n",
       "      <td>0.0</td>\n",
       "      <td>0.0</td>\n",
       "      <td>0.0</td>\n",
       "    </tr>\n",
       "    <tr>\n",
       "      <th>36991</th>\n",
       "      <td>-0.112017</td>\n",
       "      <td>0.278216</td>\n",
       "      <td>0.494382</td>\n",
       "      <td>1.000000</td>\n",
       "      <td>0.0</td>\n",
       "      <td>1.0</td>\n",
       "      <td>0.0</td>\n",
       "      <td>0.0</td>\n",
       "      <td>0.0</td>\n",
       "      <td>1.0</td>\n",
       "      <td>...</td>\n",
       "      <td>0.0</td>\n",
       "      <td>0.0</td>\n",
       "      <td>1.0</td>\n",
       "      <td>0.0</td>\n",
       "      <td>0.0</td>\n",
       "      <td>0.0</td>\n",
       "      <td>0.0</td>\n",
       "      <td>0.0</td>\n",
       "      <td>0.0</td>\n",
       "      <td>0.0</td>\n",
       "    </tr>\n",
       "  </tbody>\n",
       "</table>\n",
       "<p>36992 rows × 38 columns</p>\n",
       "</div>"
      ],
      "text/plain": [
       "       rata_rata_nilai_transaksi  poin_di_dompet  rata_rata_hari_login  \\\n",
       "0                       0.517824       -0.116731              0.224719   \n",
       "1                      -1.147816       -0.393705              0.382022   \n",
       "2                       0.467595        0.638481              0.112360   \n",
       "3                      -0.716455       -0.317082              0.247191   \n",
       "4                      -1.107061        0.391726              0.000000   \n",
       "...                          ...             ...                   ...   \n",
       "36987                   0.025255        1.061067              0.202247   \n",
       "36988                  -0.104857        1.004392              0.179775   \n",
       "36989                   0.555545        0.353334              0.606742   \n",
       "36990                   0.921813        0.515131              0.134831   \n",
       "36991                  -0.112017        0.278216              0.494382   \n",
       "\n",
       "       rata_rata_waktu_dihabiskan  kategori_wilayah_City  \\\n",
       "0                        1.000000                    0.0   \n",
       "1                        0.422089                    0.0   \n",
       "2                        0.293509                    1.0   \n",
       "3                        0.070737                    0.0   \n",
       "4                        0.192215                    0.0   \n",
       "...                           ...                    ...   \n",
       "36987                    0.248810                    0.0   \n",
       "36988                    0.459973                    1.0   \n",
       "36989                    0.339681                    0.0   \n",
       "36990                    0.081222                    1.0   \n",
       "36991                    1.000000                    0.0   \n",
       "\n",
       "       kategori_wilayah_Town  kategori_wilayah_Unknown  \\\n",
       "0                        0.0                       1.0   \n",
       "1                        0.0                       1.0   \n",
       "2                        0.0                       0.0   \n",
       "3                        0.0                       0.0   \n",
       "4                        1.0                       0.0   \n",
       "...                      ...                       ...   \n",
       "36987                    1.0                       0.0   \n",
       "36988                    0.0                       0.0   \n",
       "36989                    0.0                       1.0   \n",
       "36990                    0.0                       0.0   \n",
       "36991                    1.0                       0.0   \n",
       "\n",
       "       kategori_wilayah_Village  kategori_membership_Basic Membership  \\\n",
       "0                           0.0                                   0.0   \n",
       "1                           0.0                                   1.0   \n",
       "2                           0.0                                   0.0   \n",
       "3                           1.0                                   0.0   \n",
       "4                           0.0                                   0.0   \n",
       "...                         ...                                   ...   \n",
       "36987                       0.0                                   0.0   \n",
       "36988                       0.0                                   0.0   \n",
       "36989                       0.0                                   0.0   \n",
       "36990                       0.0                                   0.0   \n",
       "36991                       0.0                                   0.0   \n",
       "\n",
       "       kategori_membership_Gold Membership  ...  \\\n",
       "0                                      0.0  ...   \n",
       "1                                      0.0  ...   \n",
       "2                                      0.0  ...   \n",
       "3                                      0.0  ...   \n",
       "4                                      0.0  ...   \n",
       "...                                    ...  ...   \n",
       "36987                                  1.0  ...   \n",
       "36988                                  1.0  ...   \n",
       "36989                                  1.0  ...   \n",
       "36990                                  1.0  ...   \n",
       "36991                                  1.0  ...   \n",
       "\n",
       "       preferensi_aplikasi_penawaran_Yes  umpan_balik_No reason specified  \\\n",
       "0                                    1.0                              0.0   \n",
       "1                                    0.0                              0.0   \n",
       "2                                    0.0                              0.0   \n",
       "3                                    1.0                              0.0   \n",
       "4                                    0.0                              0.0   \n",
       "...                                  ...                              ...   \n",
       "36987                                1.0                              0.0   \n",
       "36988                                1.0                              0.0   \n",
       "36989                                1.0                              0.0   \n",
       "36990                                1.0                              0.0   \n",
       "36991                                0.0                              0.0   \n",
       "\n",
       "       umpan_balik_Poor Customer Service  umpan_balik_Poor Product Quality  \\\n",
       "0                                    0.0                               0.0   \n",
       "1                                    1.0                               0.0   \n",
       "2                                    0.0                               0.0   \n",
       "3                                    0.0                               0.0   \n",
       "4                                    0.0                               1.0   \n",
       "...                                  ...                               ...   \n",
       "36987                                0.0                               0.0   \n",
       "36988                                0.0                               0.0   \n",
       "36989                                1.0                               0.0   \n",
       "36990                                0.0                               0.0   \n",
       "36991                                1.0                               0.0   \n",
       "\n",
       "       umpan_balik_Poor Website  umpan_balik_Products always in Stock  \\\n",
       "0                           1.0                                   0.0   \n",
       "1                           0.0                                   0.0   \n",
       "2                           0.0                                   0.0   \n",
       "3                           0.0                                   0.0   \n",
       "4                           0.0                                   0.0   \n",
       "...                         ...                                   ...   \n",
       "36987                       0.0                                   0.0   \n",
       "36988                       0.0                                   0.0   \n",
       "36989                       0.0                                   0.0   \n",
       "36990                       1.0                                   0.0   \n",
       "36991                       0.0                                   0.0   \n",
       "\n",
       "       umpan_balik_Quality Customer Care  umpan_balik_Reasonable Price  \\\n",
       "0                                    0.0                           0.0   \n",
       "1                                    0.0                           0.0   \n",
       "2                                    0.0                           0.0   \n",
       "3                                    0.0                           0.0   \n",
       "4                                    0.0                           0.0   \n",
       "...                                  ...                           ...   \n",
       "36987                                0.0                           0.0   \n",
       "36988                                0.0                           1.0   \n",
       "36989                                0.0                           0.0   \n",
       "36990                                0.0                           0.0   \n",
       "36991                                0.0                           0.0   \n",
       "\n",
       "       umpan_balik_Too many ads  umpan_balik_User Friendly Website  \n",
       "0                           0.0                                0.0  \n",
       "1                           0.0                                0.0  \n",
       "2                           1.0                                0.0  \n",
       "3                           1.0                                0.0  \n",
       "4                           0.0                                0.0  \n",
       "...                         ...                                ...  \n",
       "36987                       0.0                                1.0  \n",
       "36988                       0.0                                0.0  \n",
       "36989                       0.0                                0.0  \n",
       "36990                       0.0                                0.0  \n",
       "36991                       0.0                                0.0  \n",
       "\n",
       "[36992 rows x 38 columns]"
      ]
     },
     "execution_count": 23,
     "metadata": {},
     "output_type": "execute_result"
    }
   ],
   "source": [
    "X_finale = pd.concat([numerical_df, kategorikal_encoded_df], axis=1)\n",
    "X_finale"
   ]
  },
  {
   "cell_type": "code",
   "execution_count": 24,
   "id": "d93322d3",
   "metadata": {},
   "outputs": [
    {
     "name": "stdout",
     "output_type": "stream",
     "text": [
      "<class 'pandas.core.frame.DataFrame'>\n",
      "RangeIndex: 36992 entries, 0 to 36991\n",
      "Data columns (total 38 columns):\n",
      " #   Column                                               Non-Null Count  Dtype  \n",
      "---  ------                                               --------------  -----  \n",
      " 0   rata_rata_nilai_transaksi                            36992 non-null  float64\n",
      " 1   poin_di_dompet                                       36992 non-null  float64\n",
      " 2   rata_rata_hari_login                                 36992 non-null  float64\n",
      " 3   rata_rata_waktu_dihabiskan                           36992 non-null  float64\n",
      " 4   kategori_wilayah_City                                36992 non-null  float64\n",
      " 5   kategori_wilayah_Town                                36992 non-null  float64\n",
      " 6   kategori_wilayah_Unknown                             36992 non-null  float64\n",
      " 7   kategori_wilayah_Village                             36992 non-null  float64\n",
      " 8   kategori_membership_Basic Membership                 36992 non-null  float64\n",
      " 9   kategori_membership_Gold Membership                  36992 non-null  float64\n",
      " 10  kategori_membership_No Membership                    36992 non-null  float64\n",
      " 11  kategori_membership_Platinum Membership              36992 non-null  float64\n",
      " 12  kategori_membership_Premium Membership               36992 non-null  float64\n",
      " 13  kategori_membership_Silver Membership                36992 non-null  float64\n",
      " 14  bergabung_melalui_referral_No                        36992 non-null  float64\n",
      " 15  bergabung_melalui_referral_Unknown                   36992 non-null  float64\n",
      " 16  bergabung_melalui_referral_Yes                       36992 non-null  float64\n",
      " 17  jenis_penawaran_preferensi_Credit/Debit Card Offers  36992 non-null  float64\n",
      " 18  jenis_penawaran_preferensi_Gift Vouchers/Coupons     36992 non-null  float64\n",
      " 19  jenis_penawaran_preferensi_Unknown                   36992 non-null  float64\n",
      " 20  jenis_penawaran_preferensi_Without Offers            36992 non-null  float64\n",
      " 21  medium_operasi_Both                                  36992 non-null  float64\n",
      " 22  medium_operasi_Desktop                               36992 non-null  float64\n",
      " 23  medium_operasi_Smartphone                            36992 non-null  float64\n",
      " 24  medium_operasi_Unknown                               36992 non-null  float64\n",
      " 25  menggunakan_diskon_khusus_No                         36992 non-null  float64\n",
      " 26  menggunakan_diskon_khusus_Yes                        36992 non-null  float64\n",
      " 27  preferensi_aplikasi_penawaran_No                     36992 non-null  float64\n",
      " 28  preferensi_aplikasi_penawaran_Yes                    36992 non-null  float64\n",
      " 29  umpan_balik_No reason specified                      36992 non-null  float64\n",
      " 30  umpan_balik_Poor Customer Service                    36992 non-null  float64\n",
      " 31  umpan_balik_Poor Product Quality                     36992 non-null  float64\n",
      " 32  umpan_balik_Poor Website                             36992 non-null  float64\n",
      " 33  umpan_balik_Products always in Stock                 36992 non-null  float64\n",
      " 34  umpan_balik_Quality Customer Care                    36992 non-null  float64\n",
      " 35  umpan_balik_Reasonable Price                         36992 non-null  float64\n",
      " 36  umpan_balik_Too many ads                             36992 non-null  float64\n",
      " 37  umpan_balik_User Friendly Website                    36992 non-null  float64\n",
      "dtypes: float64(38)\n",
      "memory usage: 10.7 MB\n"
     ]
    }
   ],
   "source": [
    "X_finale.info()"
   ]
  },
  {
   "cell_type": "markdown",
   "id": "922fe719",
   "metadata": {},
   "source": [
    "### Splitting"
   ]
  },
  {
   "cell_type": "code",
   "execution_count": 25,
   "id": "40ce36e8",
   "metadata": {},
   "outputs": [],
   "source": [
    "X_train, X_test, y_train, y_test = train_test_split(X_finale,\n",
    "                                                    y,\n",
    "                                                    test_size=0.2,\n",
    "                                                    random_state=42)"
   ]
  },
  {
   "cell_type": "code",
   "execution_count": 26,
   "id": "7244473d",
   "metadata": {},
   "outputs": [
    {
     "name": "stdout",
     "output_type": "stream",
     "text": [
      "Ukuran data latih:  (29593, 38)\n",
      "Ukuran data test:  (7399, 38)\n"
     ]
    }
   ],
   "source": [
    "print('Ukuran data latih: ', X_train.shape)\n",
    "print('Ukuran data test: ', X_test.shape)"
   ]
  },
  {
   "cell_type": "markdown",
   "id": "7a679a52",
   "metadata": {},
   "source": [
    "### Modelling"
   ]
  },
  {
   "cell_type": "markdown",
   "id": "ada411e2",
   "metadata": {},
   "source": [
    "fungsi untuk evaluasi nanti, kasus klasifikasi\n",
    "\n",
    "Evaluasi dengan klasifikasi:\n",
    "- accuracy\n",
    "- precision\n",
    "- recall (sensitivity)\n",
    "- Specificity\n",
    "- ROC-AUC\n",
    "- Precision-Recall Curve and AUC\n",
    "- F-beta score\n",
    "- Matthews Correlation Coefficient\n",
    "- Log loss"
   ]
  },
  {
   "cell_type": "code",
   "execution_count": 27,
   "id": "0a143113",
   "metadata": {},
   "outputs": [],
   "source": [
    "# y_true itu y_test\n",
    "def model_report(y_true, y_pred):\n",
    "    acc = accuracy_score(y_true, y_pred)\n",
    "    pre = precision_score(y_true, y_pred)\n",
    "    rec = recall_score(y_true, y_pred)\n",
    "    f1 = f1_score(y_true, y_pred)\n",
    "    loss = log_loss(y_true, y_pred)\n",
    "    \n",
    "    print(\"accuracy:   {:3f}\\nprecision:  {:3f}\\nrecall:     {:3f}\\nf1-score:   {:3f}\\nloss:       {:3f}\".\n",
    "          format(acc, pre, rec, f1, loss))"
   ]
  },
  {
   "cell_type": "markdown",
   "id": "5ca16e10",
   "metadata": {},
   "source": [
    "## Machine Learning"
   ]
  },
  {
   "cell_type": "code",
   "execution_count": 28,
   "id": "26943bb9",
   "metadata": {},
   "outputs": [],
   "source": [
    "# initiate objek\n",
    "\n",
    "knn_ball                   = KNeighborsClassifier(n_neighbors=5, algorithm=\"ball_tree\", metric='euclidean')\n",
    "random_forest              = RandomForestClassifier(max_depth=50, criterion=\"gini\", n_estimators=38)\n",
    "knn_tree                   = KNeighborsClassifier(n_neighbors=10, algorithm=\"kd_tree\")\n",
    "decision_tree              = DecisionTreeClassifier(max_depth=17, criterion=\"entropy\")\n",
    "ada_boost                  = AdaBoostClassifier()\n",
    "sgd                        = SGDClassifier()\n",
    "gaussian                   = GaussianNB()\n",
    "svc                        = SVC()"
   ]
  },
  {
   "cell_type": "code",
   "execution_count": 29,
   "id": "06cfd809",
   "metadata": {},
   "outputs": [],
   "source": [
    "models = {\"KNN Ball\"       : knn_ball,\n",
    "         \"KNN Tree\"        : knn_tree,\n",
    "         \"Decision tree\"   : decision_tree,\n",
    "         \"Random forest\"   : random_forest,\n",
    "         \"Ada Boost\"       : ada_boost,\n",
    "         \"Gaussian Naive\"  : gaussian,\n",
    "         \"SVC\"             : svc,\n",
    "         \"SGD\"             : sgd}"
   ]
  },
  {
   "cell_type": "markdown",
   "id": "1c3fdd50",
   "metadata": {},
   "source": [
    "### Training"
   ]
  },
  {
   "cell_type": "markdown",
   "id": "4fb9c863",
   "metadata": {},
   "source": [
    "#### hasil try and error 😭😭😭😭😭😭😭"
   ]
  },
  {
   "cell_type": "code",
   "execution_count": 30,
   "id": "0c07fa90",
   "metadata": {},
   "outputs": [
    {
     "name": "stdout",
     "output_type": "stream",
     "text": [
      "************************************************** Performa Model ML pada Data Train ************************************************** \n",
      "\n",
      "KNN Ball: \n",
      "Train Data Metrics:\n",
      "accuracy:   0.915284\n",
      "precision:  0.908827\n",
      "recall:     0.937488\n",
      "f1-score:   0.922935\n",
      "loss:       3.053473\n",
      "=========================\n",
      "\n",
      "KNN Tree: \n",
      "Train Data Metrics:\n",
      "accuracy:   0.911263\n",
      "precision:  0.923881\n",
      "recall:     0.911072\n",
      "f1-score:   0.917432\n",
      "loss:       3.198413\n",
      "=========================\n",
      "\n",
      "Decision tree: \n",
      "Train Data Metrics:\n",
      "accuracy:   0.946136\n",
      "precision:  0.950228\n",
      "recall:     0.950228\n",
      "f1-score:   0.950228\n",
      "loss:       1.941459\n",
      "=========================\n",
      "\n",
      "Random forest: \n",
      "Train Data Metrics:\n",
      "accuracy:   0.999662\n",
      "precision:  0.999501\n",
      "recall:     0.999875\n",
      "f1-score:   0.999688\n",
      "loss:       0.012180\n",
      "=========================\n",
      "\n",
      "Ada Boost: \n",
      "Train Data Metrics:\n",
      "accuracy:   0.927821\n",
      "precision:  0.901232\n",
      "recall:     0.973272\n",
      "f1-score:   0.935867\n",
      "loss:       2.601603\n",
      "=========================\n",
      "\n",
      "Gaussian Naive: \n",
      "Train Data Metrics:\n",
      "accuracy:   0.838712\n",
      "precision:  0.770374\n",
      "recall:     1.000000\n",
      "f1-score:   0.870295\n",
      "loss:       5.813414\n",
      "=========================\n",
      "\n",
      "SVC: \n",
      "Train Data Metrics:\n",
      "accuracy:   0.930558\n",
      "precision:  0.923483\n",
      "recall:     0.950415\n",
      "f1-score:   0.936756\n",
      "loss:       2.502947\n",
      "=========================\n",
      "\n",
      "SGD: \n",
      "Train Data Metrics:\n",
      "accuracy:   0.870814\n",
      "precision:  0.835961\n",
      "recall:     0.947105\n",
      "f1-score:   0.888069\n",
      "loss:       4.656334\n",
      "=========================\n",
      "\n"
     ]
    }
   ],
   "source": [
    "def model_report_train(y_true_train, y_pred_train):\n",
    "    \n",
    "    acc_train      = accuracy_score(y_true_train, y_pred_train)\n",
    "    pre_train      = precision_score(y_true_train, y_pred_train)\n",
    "    rec_train      = recall_score(y_true_train, y_pred_train)\n",
    "    f1_train       = f1_score(y_true_train, y_pred_train)\n",
    "    loss_train     = log_loss(y_true_train, y_pred_train)\n",
    "    \n",
    "    print(\"Train Data Metrics:\")\n",
    "    print(\"accuracy:   {:3f}\\nprecision:  {:3f}\\nrecall:     {:3f}\\nf1-score:   {:3f}\\nloss:       {:3f}\".\n",
    "          format(acc_train, pre_train, rec_train, f1_train, loss_train))\n",
    "    \n",
    "print(\"*\"*50, \"Performa Model ML pada Data Train\", \"*\"*50, \"\\n\")\n",
    "\n",
    "for nama_model, model in models.items():\n",
    "    \n",
    "    model.fit(X_train, y_train)\n",
    "    y_pred_train    = model.predict(X_train)\n",
    "    \n",
    "    print(f\"{nama_model}: \")\n",
    "\n",
    "    model_report_train(y_train, y_pred_train)\n",
    "    \n",
    "    print(\"=\"*25 + \"\\n\")"
   ]
  },
  {
   "cell_type": "markdown",
   "id": "f75977b2",
   "metadata": {},
   "source": [
    "### Testing"
   ]
  },
  {
   "cell_type": "code",
   "execution_count": 31,
   "id": "335982ad",
   "metadata": {},
   "outputs": [
    {
     "name": "stdout",
     "output_type": "stream",
     "text": [
      "************************************************** Performa Model ML ************************************************** \n",
      "\n",
      "KNN Ball: \n",
      "accuracy:   0.872550\n",
      "precision:  0.868370\n",
      "recall:     0.900725\n",
      "f1-score:   0.884252\n",
      "loss:       4.593751\n",
      "=========================\n",
      "\n",
      "KNN Tree: \n",
      "accuracy:   0.889445\n",
      "precision:  0.902353\n",
      "recall:     0.891973\n",
      "f1-score:   0.897133\n",
      "loss:       3.984823\n",
      "=========================\n",
      "\n",
      "Decision tree: \n",
      "accuracy:   0.934721\n",
      "precision:  0.940160\n",
      "recall:     0.938985\n",
      "f1-score:   0.939572\n",
      "loss:       2.352897\n",
      "=========================\n",
      "\n",
      "Random forest: \n",
      "accuracy:   0.933369\n",
      "precision:  0.937157\n",
      "recall:     0.939735\n",
      "f1-score:   0.938444\n",
      "loss:       2.401611\n",
      "=========================\n",
      "\n",
      "Ada Boost: \n",
      "accuracy:   0.929720\n",
      "precision:  0.904253\n",
      "recall:     0.972993\n",
      "f1-score:   0.937364\n",
      "loss:       2.533140\n",
      "=========================\n",
      "\n",
      "Gaussian Naive: \n",
      "accuracy:   0.841195\n",
      "precision:  0.772903\n",
      "recall:     1.000000\n",
      "f1-score:   0.871907\n",
      "loss:       5.723921\n",
      "=========================\n",
      "\n",
      "SVC: \n",
      "accuracy:   0.926341\n",
      "precision:  0.919990\n",
      "recall:     0.945986\n",
      "f1-score:   0.932807\n",
      "loss:       2.654925\n",
      "=========================\n",
      "\n",
      "SGD: \n",
      "accuracy:   0.858765\n",
      "precision:  0.929111\n",
      "recall:     0.799700\n",
      "f1-score:   0.859562\n",
      "loss:       5.090636\n",
      "=========================\n",
      "\n"
     ]
    }
   ],
   "source": [
    "print(\"*\"*50, \"Performa Model ML\", \"*\"*50, \"\\n\")\n",
    "\n",
    "for nama_model, model in models.items():\n",
    "    \n",
    "    model.fit(X_train, y_train)\n",
    "    y_pred = model.predict(X_test)\n",
    "    \n",
    "    print(f\"{nama_model}: \")\n",
    "    model_report(y_test, y_pred)\n",
    "    \n",
    "    print(\"=\"*25 + \"\\n\")"
   ]
  },
  {
   "cell_type": "markdown",
   "id": "97319495",
   "metadata": {},
   "source": [
    "Berdasarkan hasil evaluasi **tiga model terbaik** adalah:\n",
    "- Random Forest\n",
    "- Decision Tree\n",
    "- Ada Boost\n",
    "\n",
    "\n",
    "Ketiganya memiliki kinerja yang sangat baik pada data uji dengan akurasi yang sangat memuaskan. Random Forest menunjukkan performa paling optimal dengan akurasi 93,6% dengan keseimbangan yang baik antara akurasi, precision, recall, dan f1-score tanpa menunjukkan tanda-tanda overfitting."
   ]
  },
  {
   "cell_type": "markdown",
   "id": "97d71ecc",
   "metadata": {},
   "source": [
    "## Deep Learning\n",
    "\n",
    "ANN / Sequential 🙀\n",
    "\n",
    "Untuk membangun model Neural Network kita akan membangun dari beberapa layer, dimana biasanya terdiri dari tiga layer yaitu input, hidden, dan output layer.\n",
    "\n",
    "Setiap layer tersebut akan menggunakan beberapa teknik atau fungsi aktivasi yang tujuannya untuk mempelajari dan menangani pola yang kompleks dalam data.\n",
    "\n",
    "- RElu: ReLU mengonversi semua nilai negatif menjadi nol dan membiarkan nilai positif tidak berubah\n",
    "- Sigmoid: menghasilkan output dalam rentang 0 hingga 1\n",
    "- Tanh: tanh menghasilkan output dalam rentang -1 hingga 1\n",
    "- Softmax: mengubah nilai input menjadi distribusi probabilitas, sehingga output dapat diinterpretasikan sebagai probabilitas relatif dari setiap kelas.\n",
    "- softplus: digunakan untuk klasifikasi multi-kelas"
   ]
  },
  {
   "cell_type": "code",
   "execution_count": 32,
   "id": "cde34a1b",
   "metadata": {},
   "outputs": [
    {
     "data": {
      "application/javascript": [
       "\n",
       "        if (window._pyforest_update_imports_cell) { window._pyforest_update_imports_cell('import keras\\nimport pandas as pd\\nimport numpy as np'); }\n",
       "    "
      ],
      "text/plain": [
       "<IPython.core.display.Javascript object>"
      ]
     },
     "metadata": {},
     "output_type": "display_data"
    },
    {
     "data": {
      "application/javascript": [
       "\n",
       "        if (window._pyforest_update_imports_cell) { window._pyforest_update_imports_cell('import keras\\nimport pandas as pd\\nimport numpy as np'); }\n",
       "    "
      ],
      "text/plain": [
       "<IPython.core.display.Javascript object>"
      ]
     },
     "metadata": {},
     "output_type": "display_data"
    },
    {
     "data": {
      "application/javascript": [
       "\n",
       "        if (window._pyforest_update_imports_cell) { window._pyforest_update_imports_cell('import keras\\nimport pandas as pd\\nimport numpy as np'); }\n",
       "    "
      ],
      "text/plain": [
       "<IPython.core.display.Javascript object>"
      ]
     },
     "metadata": {},
     "output_type": "display_data"
    },
    {
     "data": {
      "application/javascript": [
       "\n",
       "        if (window._pyforest_update_imports_cell) { window._pyforest_update_imports_cell('import keras\\nimport pandas as pd\\nimport numpy as np'); }\n",
       "    "
      ],
      "text/plain": [
       "<IPython.core.display.Javascript object>"
      ]
     },
     "metadata": {},
     "output_type": "display_data"
    },
    {
     "data": {
      "application/javascript": [
       "\n",
       "        if (window._pyforest_update_imports_cell) { window._pyforest_update_imports_cell('import keras\\nimport pandas as pd\\nimport numpy as np'); }\n",
       "    "
      ],
      "text/plain": [
       "<IPython.core.display.Javascript object>"
      ]
     },
     "metadata": {},
     "output_type": "display_data"
    },
    {
     "data": {
      "application/javascript": [
       "\n",
       "        if (window._pyforest_update_imports_cell) { window._pyforest_update_imports_cell('import keras\\nimport pandas as pd\\nimport numpy as np'); }\n",
       "    "
      ],
      "text/plain": [
       "<IPython.core.display.Javascript object>"
      ]
     },
     "metadata": {},
     "output_type": "display_data"
    },
    {
     "data": {
      "application/javascript": [
       "\n",
       "        if (window._pyforest_update_imports_cell) { window._pyforest_update_imports_cell('import keras\\nimport pandas as pd\\nimport numpy as np'); }\n",
       "    "
      ],
      "text/plain": [
       "<IPython.core.display.Javascript object>"
      ]
     },
     "metadata": {},
     "output_type": "display_data"
    },
    {
     "data": {
      "application/javascript": [
       "\n",
       "        if (window._pyforest_update_imports_cell) { window._pyforest_update_imports_cell('import keras\\nimport pandas as pd\\nimport numpy as np'); }\n",
       "    "
      ],
      "text/plain": [
       "<IPython.core.display.Javascript object>"
      ]
     },
     "metadata": {},
     "output_type": "display_data"
    },
    {
     "data": {
      "application/javascript": [
       "\n",
       "        if (window._pyforest_update_imports_cell) { window._pyforest_update_imports_cell('import keras\\nimport pandas as pd\\nimport numpy as np'); }\n",
       "    "
      ],
      "text/plain": [
       "<IPython.core.display.Javascript object>"
      ]
     },
     "metadata": {},
     "output_type": "display_data"
    },
    {
     "data": {
      "application/javascript": [
       "\n",
       "        if (window._pyforest_update_imports_cell) { window._pyforest_update_imports_cell('import keras\\nimport pandas as pd\\nimport numpy as np'); }\n",
       "    "
      ],
      "text/plain": [
       "<IPython.core.display.Javascript object>"
      ]
     },
     "metadata": {},
     "output_type": "display_data"
    },
    {
     "data": {
      "application/javascript": [
       "\n",
       "        if (window._pyforest_update_imports_cell) { window._pyforest_update_imports_cell('import keras\\nimport pandas as pd\\nimport numpy as np'); }\n",
       "    "
      ],
      "text/plain": [
       "<IPython.core.display.Javascript object>"
      ]
     },
     "metadata": {},
     "output_type": "display_data"
    }
   ],
   "source": [
    "ann_model = keras.Sequential()\n",
    "\n",
    "ann_model.add(keras.layers.Dense(units=38, activation=\"softplus\", input_shape=(38,)))\n",
    "ann_model.add(keras.layers.Dropout(0.1)) #untuk antisipasi overfit\n",
    "\n",
    "ann_model.add(keras.layers.Dense(units=16, activation=\"softplus\"))\n",
    "ann_model.add(keras.layers.Dropout(0.2))\n",
    "\n",
    "ann_model.add(keras.layers.Dense(units=32, activation=\"softplus\"))\n",
    "ann_model.add(keras.layers.Dropout(0.2))\n",
    "\n",
    "ann_model.add(keras.layers.Dense(units=16, activation=\"softplus\"))\n",
    "ann_model.add(keras.layers.Dropout(0.15))\n",
    "\n",
    "ann_model.add(keras.layers.Dense(units=1, activation=\"sigmoid\")) #output\n",
    "\n",
    "ann_model.compile(optimizer=keras.optimizers.Adam(0.01), #learning rate\n",
    "                 loss=\"mse\",\n",
    "                 metrics=[\"accuracy\"])"
   ]
  },
  {
   "cell_type": "code",
   "execution_count": 33,
   "id": "eba12981",
   "metadata": {},
   "outputs": [
    {
     "name": "stdout",
     "output_type": "stream",
     "text": [
      "Epoch 1/50\n",
      "740/740 - 3s - 5ms/step - accuracy: 0.8351 - loss: 0.1011 - val_accuracy: 0.8667 - val_loss: 0.0843\n",
      "Epoch 2/50\n",
      "740/740 - 3s - 3ms/step - accuracy: 0.8546 - loss: 0.0850 - val_accuracy: 0.8834 - val_loss: 0.0832\n",
      "Epoch 3/50\n",
      "740/740 - 1s - 2ms/step - accuracy: 0.8992 - loss: 0.0740 - val_accuracy: 0.9177 - val_loss: 0.0610\n",
      "Epoch 4/50\n",
      "740/740 - 2s - 2ms/step - accuracy: 0.9148 - loss: 0.0645 - val_accuracy: 0.9127 - val_loss: 0.0618\n",
      "Epoch 5/50\n",
      "740/740 - 1s - 2ms/step - accuracy: 0.9186 - loss: 0.0610 - val_accuracy: 0.9243 - val_loss: 0.0585\n",
      "Epoch 6/50\n",
      "740/740 - 2s - 2ms/step - accuracy: 0.9209 - loss: 0.0567 - val_accuracy: 0.9260 - val_loss: 0.0490\n",
      "Epoch 7/50\n",
      "740/740 - 1s - 2ms/step - accuracy: 0.9221 - loss: 0.0541 - val_accuracy: 0.9274 - val_loss: 0.0468\n",
      "Epoch 8/50\n",
      "740/740 - 1s - 2ms/step - accuracy: 0.9239 - loss: 0.0520 - val_accuracy: 0.9277 - val_loss: 0.0472\n",
      "Epoch 9/50\n",
      "740/740 - 2s - 2ms/step - accuracy: 0.9232 - loss: 0.0514 - val_accuracy: 0.9299 - val_loss: 0.0474\n",
      "Epoch 10/50\n",
      "740/740 - 3s - 4ms/step - accuracy: 0.9238 - loss: 0.0510 - val_accuracy: 0.9260 - val_loss: 0.0474\n",
      "Epoch 11/50\n",
      "740/740 - 2s - 3ms/step - accuracy: 0.9237 - loss: 0.0501 - val_accuracy: 0.9268 - val_loss: 0.0477\n",
      "Epoch 12/50\n",
      "740/740 - 2s - 3ms/step - accuracy: 0.9235 - loss: 0.0521 - val_accuracy: 0.9260 - val_loss: 0.0474\n",
      "Epoch 13/50\n",
      "740/740 - 2s - 3ms/step - accuracy: 0.9254 - loss: 0.0516 - val_accuracy: 0.9267 - val_loss: 0.0484\n",
      "Epoch 14/50\n",
      "740/740 - 2s - 2ms/step - accuracy: 0.9267 - loss: 0.0511 - val_accuracy: 0.9255 - val_loss: 0.0491\n",
      "Epoch 15/50\n",
      "740/740 - 3s - 4ms/step - accuracy: 0.9232 - loss: 0.0498 - val_accuracy: 0.9258 - val_loss: 0.0478\n",
      "Epoch 16/50\n",
      "740/740 - 2s - 3ms/step - accuracy: 0.9247 - loss: 0.0498 - val_accuracy: 0.9260 - val_loss: 0.0470\n",
      "Epoch 17/50\n",
      "740/740 - 1s - 2ms/step - accuracy: 0.9244 - loss: 0.0493 - val_accuracy: 0.9245 - val_loss: 0.0470\n",
      "Epoch 18/50\n",
      "740/740 - 2s - 2ms/step - accuracy: 0.9276 - loss: 0.0495 - val_accuracy: 0.9253 - val_loss: 0.0473\n",
      "Epoch 19/50\n",
      "740/740 - 2s - 2ms/step - accuracy: 0.9266 - loss: 0.0508 - val_accuracy: 0.9263 - val_loss: 0.0531\n",
      "Epoch 20/50\n",
      "740/740 - 2s - 2ms/step - accuracy: 0.9282 - loss: 0.0531 - val_accuracy: 0.9258 - val_loss: 0.0476\n",
      "Epoch 21/50\n",
      "740/740 - 2s - 3ms/step - accuracy: 0.9258 - loss: 0.0500 - val_accuracy: 0.9248 - val_loss: 0.0473\n",
      "Epoch 22/50\n",
      "740/740 - 1s - 2ms/step - accuracy: 0.9273 - loss: 0.0477 - val_accuracy: 0.9252 - val_loss: 0.0477\n",
      "Epoch 23/50\n",
      "740/740 - 3s - 3ms/step - accuracy: 0.9281 - loss: 0.0507 - val_accuracy: 0.9257 - val_loss: 0.0560\n",
      "Epoch 24/50\n",
      "740/740 - 2s - 2ms/step - accuracy: 0.9254 - loss: 0.0530 - val_accuracy: 0.9250 - val_loss: 0.0534\n",
      "Epoch 25/50\n",
      "740/740 - 3s - 4ms/step - accuracy: 0.9281 - loss: 0.0505 - val_accuracy: 0.9262 - val_loss: 0.0555\n",
      "Epoch 26/50\n",
      "740/740 - 2s - 2ms/step - accuracy: 0.9261 - loss: 0.0496 - val_accuracy: 0.9257 - val_loss: 0.0472\n",
      "Epoch 27/50\n",
      "740/740 - 3s - 4ms/step - accuracy: 0.9266 - loss: 0.0483 - val_accuracy: 0.9238 - val_loss: 0.0492\n",
      "Epoch 28/50\n",
      "740/740 - 1s - 2ms/step - accuracy: 0.9260 - loss: 0.0492 - val_accuracy: 0.9263 - val_loss: 0.0475\n",
      "Epoch 29/50\n",
      "740/740 - 1s - 2ms/step - accuracy: 0.9267 - loss: 0.0491 - val_accuracy: 0.9252 - val_loss: 0.0484\n",
      "Epoch 30/50\n",
      "740/740 - 1s - 2ms/step - accuracy: 0.9266 - loss: 0.0486 - val_accuracy: 0.9263 - val_loss: 0.0468\n",
      "Epoch 31/50\n",
      "740/740 - 1s - 2ms/step - accuracy: 0.9271 - loss: 0.0513 - val_accuracy: 0.9255 - val_loss: 0.0549\n",
      "Epoch 32/50\n",
      "740/740 - 2s - 2ms/step - accuracy: 0.9281 - loss: 0.0526 - val_accuracy: 0.9270 - val_loss: 0.0544\n",
      "Epoch 33/50\n",
      "740/740 - 1s - 2ms/step - accuracy: 0.9287 - loss: 0.0507 - val_accuracy: 0.9241 - val_loss: 0.0484\n",
      "Epoch 34/50\n",
      "740/740 - 1s - 2ms/step - accuracy: 0.9268 - loss: 0.0488 - val_accuracy: 0.9255 - val_loss: 0.0539\n",
      "Epoch 35/50\n",
      "740/740 - 1s - 2ms/step - accuracy: 0.9283 - loss: 0.0518 - val_accuracy: 0.9223 - val_loss: 0.0570\n",
      "Epoch 36/50\n",
      "740/740 - 1s - 2ms/step - accuracy: 0.9288 - loss: 0.0536 - val_accuracy: 0.9236 - val_loss: 0.0549\n",
      "Epoch 37/50\n",
      "740/740 - 3s - 4ms/step - accuracy: 0.9278 - loss: 0.0542 - val_accuracy: 0.9262 - val_loss: 0.0544\n",
      "Epoch 38/50\n",
      "740/740 - 2s - 2ms/step - accuracy: 0.9269 - loss: 0.0524 - val_accuracy: 0.9235 - val_loss: 0.0543\n",
      "Epoch 39/50\n",
      "740/740 - 1s - 2ms/step - accuracy: 0.9302 - loss: 0.0515 - val_accuracy: 0.9267 - val_loss: 0.0553\n",
      "Epoch 40/50\n",
      "740/740 - 2s - 2ms/step - accuracy: 0.9284 - loss: 0.0513 - val_accuracy: 0.9253 - val_loss: 0.0543\n",
      "Epoch 41/50\n",
      "740/740 - 3s - 4ms/step - accuracy: 0.9289 - loss: 0.0510 - val_accuracy: 0.9252 - val_loss: 0.0545\n",
      "Epoch 42/50\n",
      "740/740 - 2s - 3ms/step - accuracy: 0.9275 - loss: 0.0566 - val_accuracy: 0.9255 - val_loss: 0.0667\n",
      "Epoch 43/50\n",
      "740/740 - 1s - 2ms/step - accuracy: 0.9306 - loss: 0.0569 - val_accuracy: 0.9241 - val_loss: 0.0570\n",
      "Epoch 44/50\n",
      "740/740 - 3s - 4ms/step - accuracy: 0.9285 - loss: 0.0536 - val_accuracy: 0.9236 - val_loss: 0.0560\n",
      "Epoch 45/50\n",
      "740/740 - 2s - 3ms/step - accuracy: 0.9272 - loss: 0.0503 - val_accuracy: 0.9248 - val_loss: 0.0541\n",
      "Epoch 46/50\n",
      "740/740 - 1s - 2ms/step - accuracy: 0.9285 - loss: 0.0511 - val_accuracy: 0.9206 - val_loss: 0.0547\n",
      "Epoch 47/50\n",
      "740/740 - 4s - 5ms/step - accuracy: 0.9278 - loss: 0.0510 - val_accuracy: 0.9225 - val_loss: 0.0564\n",
      "Epoch 48/50\n",
      "740/740 - 2s - 3ms/step - accuracy: 0.9287 - loss: 0.0534 - val_accuracy: 0.9243 - val_loss: 0.0580\n",
      "Epoch 49/50\n",
      "740/740 - 2s - 3ms/step - accuracy: 0.9293 - loss: 0.0524 - val_accuracy: 0.9243 - val_loss: 0.0573\n",
      "Epoch 50/50\n",
      "740/740 - 2s - 3ms/step - accuracy: 0.9300 - loss: 0.0522 - val_accuracy: 0.9243 - val_loss: 0.0558\n"
     ]
    }
   ],
   "source": [
    "ann_latih = ann_model.fit(X_train, y_train,\n",
    "                         epochs=50,\n",
    "                         validation_split=0.2,\n",
    "                         verbose=2)"
   ]
  },
  {
   "cell_type": "code",
   "execution_count": 34,
   "id": "5776fd4c",
   "metadata": {},
   "outputs": [],
   "source": [
    "def viz_hasil_churn(ann_latih):\n",
    "\n",
    "    fig, (ax1, ax2) = plt.subplots(1, 2)\n",
    "\n",
    "    ax1.plot(ann_latih.history[\"accuracy\"],     label= \"Model accuracy\")\n",
    "    ax1.plot(ann_latih.history[\"val_accuracy\"], label= \"Valid accuracy\")\n",
    "    ax1.set_title(\"Model accuracy\")\n",
    "    ax1.set_ylabel(\"accuracy\")\n",
    "    ax1.set_xlabel(\"epoch\")\n",
    "    \n",
    "    ax2.plot(ann_latih.history[\"loss\"],     label= \"Model loss\")\n",
    "    ax2.plot(ann_latih.history[\"val_loss\"], label= \"Valid loss\")\n",
    "    ax2.set_title(\"Model loss\", )\n",
    "    ax2.set_ylabel(\"loss\")\n",
    "    ax2.set_xlabel(\"epoch\")\n",
    "\n",
    "    ax1.legend()\n",
    "    ax2.legend()\n",
    "    \n",
    "    ax1.spines[['right', 'top']] .set_visible(False)\n",
    "    ax2.spines[['right', 'top']] .set_visible(False)\n",
    "    \n",
    "\n",
    "    fig.suptitle(\"Model loss & accuracy\")\n",
    "    fig.set_size_inches(12, 6)\n",
    "    plt.show()"
   ]
  },
  {
   "cell_type": "code",
   "execution_count": 35,
   "id": "86b7d173",
   "metadata": {},
   "outputs": [
    {
     "data": {
      "application/javascript": [
       "\n",
       "        if (window._pyforest_update_imports_cell) { window._pyforest_update_imports_cell('import keras\\nimport pandas as pd\\nimport numpy as np\\nimport matplotlib.pyplot as plt'); }\n",
       "    "
      ],
      "text/plain": [
       "<IPython.core.display.Javascript object>"
      ]
     },
     "metadata": {},
     "output_type": "display_data"
    },
    {
     "data": {
      "application/javascript": [
       "\n",
       "        if (window._pyforest_update_imports_cell) { window._pyforest_update_imports_cell('import keras\\nimport pandas as pd\\nimport numpy as np\\nimport matplotlib.pyplot as plt'); }\n",
       "    "
      ],
      "text/plain": [
       "<IPython.core.display.Javascript object>"
      ]
     },
     "metadata": {},
     "output_type": "display_data"
    },
    {
     "data": {
      "image/png": "[encoded data removed]",
      "text/plain": [
       "<Figure size 1200x600 with 2 Axes>"
      ]
     },
     "metadata": {},
     "output_type": "display_data"
    }
   ],
   "source": [
    "viz_hasil_churn(ann_latih)"
   ]
  },
  {
   "cell_type": "markdown",
   "id": "05e817d0",
   "metadata": {},
   "source": [
    "Kita bisa lihat hasil evaluasi terhadap prediksi data test sebagai berikut"
   ]
  },
  {
   "cell_type": "code",
   "execution_count": 36,
   "id": "770f05d9",
   "metadata": {},
   "outputs": [],
   "source": [
    "def pred_report(y_true, y_pred):\n",
    "    \n",
    "    # Konversi prediksi yang kontinu menjadi nilai biner (0/1)\n",
    "    y_pred_bin = np.round(y_pred).astype(int)\n",
    "    \n",
    "    # Hitung metrik evaluasi klasifikasi\n",
    "    acc_ann = accuracy_score(y_true, y_pred_bin)\n",
    "    pre_ann = precision_score(y_true, y_pred_bin)\n",
    "    rec_ann = recall_score(y_true, y_pred_bin)\n",
    "    f1_ann = f1_score(y_true, y_pred_bin)\n",
    "    loss_ann = log_loss(y_true, y_pred)\n",
    "    \n",
    "    print(\"Accuracy:  {:3f}\\nPrecision:  {:3f}\\nRecall:  {:3f}\\nF1 Score:  {:3f}\\nLoss:  {:3f}\".\n",
    "          format(acc_ann, pre_ann, rec_ann, f1_ann, loss_ann))"
   ]
  },
  {
   "cell_type": "code",
   "execution_count": 37,
   "id": "b6511b3e",
   "metadata": {},
   "outputs": [
    {
     "name": "stdout",
     "output_type": "stream",
     "text": [
      "Hasil Evaluasi Model terhadap Prediksi data test menggunakan NN:\n"
     ]
    },
    {
     "data": {
      "application/javascript": [
       "\n",
       "        if (window._pyforest_update_imports_cell) { window._pyforest_update_imports_cell('import keras\\nimport pandas as pd\\nimport numpy as np\\nimport matplotlib.pyplot as plt'); }\n",
       "    "
      ],
      "text/plain": [
       "<IPython.core.display.Javascript object>"
      ]
     },
     "metadata": {},
     "output_type": "display_data"
    },
    {
     "name": "stdout",
     "output_type": "stream",
     "text": [
      "Accuracy:  0.930396\n",
      "Precision:  0.963052\n",
      "Recall:  0.905976\n",
      "F1 Score:  0.933643\n",
      "Loss:  0.476278\n"
     ]
    }
   ],
   "source": [
    "print(\"Hasil Evaluasi Model terhadap Prediksi data test menggunakan NN:\")\n",
    "pred_report(y_test, ann_model.predict(X_test, verbose=0))"
   ]
  },
  {
   "cell_type": "code",
   "execution_count": 38,
   "id": "46b7b6b8",
   "metadata": {},
   "outputs": [],
   "source": [
    "def plot_confusion_matriks(y_true, y_pred):\n",
    "    cm = confusion_matrix(y_true, y_pred)\n",
    "    tampil = ConfusionMatrixDisplay(confusion_matrix=cm)\n",
    "    \n",
    "    tampil.plot(cmap='Greys')\n",
    "    \n",
    "    plt.title('Confusion Matrix')\n",
    "    plt.show()"
   ]
  },
  {
   "cell_type": "code",
   "execution_count": 39,
   "id": "d7a86b2f",
   "metadata": {},
   "outputs": [
    {
     "data": {
      "application/javascript": [
       "\n",
       "        if (window._pyforest_update_imports_cell) { window._pyforest_update_imports_cell('import keras\\nimport pandas as pd\\nimport numpy as np\\nimport matplotlib.pyplot as plt'); }\n",
       "    "
      ],
      "text/plain": [
       "<IPython.core.display.Javascript object>"
      ]
     },
     "metadata": {},
     "output_type": "display_data"
    },
    {
     "data": {
      "application/javascript": [
       "\n",
       "        if (window._pyforest_update_imports_cell) { window._pyforest_update_imports_cell('import keras\\nimport pandas as pd\\nimport numpy as np\\nimport matplotlib.pyplot as plt'); }\n",
       "    "
      ],
      "text/plain": [
       "<IPython.core.display.Javascript object>"
      ]
     },
     "metadata": {},
     "output_type": "display_data"
    },
    {
     "data": {
      "application/javascript": [
       "\n",
       "        if (window._pyforest_update_imports_cell) { window._pyforest_update_imports_cell('import keras\\nimport pandas as pd\\nimport numpy as np\\nimport matplotlib.pyplot as plt'); }\n",
       "    "
      ],
      "text/plain": [
       "<IPython.core.display.Javascript object>"
      ]
     },
     "metadata": {},
     "output_type": "display_data"
    },
    {
     "data": {
      "image/png": "[encoded data removed]",
      "text/plain": [
       "<Figure size 640x480 with 2 Axes>"
      ]
     },
     "metadata": {},
     "output_type": "display_data"
    }
   ],
   "source": [
    "plot_confusion_matriks(y_test, np.round(ann_model.predict(X_test, verbose=0)))"
   ]
  },
  {
   "cell_type": "markdown",
   "id": "aef08020",
   "metadata": {},
   "source": [
    "Berdasarkan train, validasi, recall. loss, kita dapat melihat bahwa model ini sudah sesuai atau berada dalam kondisi **good fit**. Tidak ada gradien yang aneh-aneh gitu wkwkwk, yang berarti model bekerja dengan baik."
   ]
  },
  {
   "cell_type": "code",
   "execution_count": 40,
   "id": "38d14fb2",
   "metadata": {},
   "outputs": [
    {
     "data": {
      "text/html": [
       "<pre style=\"white-space:pre;overflow-x:auto;line-height:normal;font-family:Menlo,'DejaVu Sans Mono',consolas,'Courier New',monospace\"><span style=\"font-weight: bold\">Model: \"sequential\"</span>\n",
       "</pre>\n"
      ],
      "text/plain": [
       "\u001b[1mModel: \"sequential\"\u001b[0m\n"
      ]
     },
     "metadata": {},
     "output_type": "display_data"
    },
    {
     "data": {
      "text/html": [
       "<pre style=\"white-space:pre;overflow-x:auto;line-height:normal;font-family:Menlo,'DejaVu Sans Mono',consolas,'Courier New',monospace\">┏━━━━━━━━━━━━━━━━━━━━━━━━━━━━━━━━━━━━━━┳━━━━━━━━━━━━━━━━━━━━━━━━━━━━━┳━━━━━━━━━━━━━━━━━┓\n",
       "┃<span style=\"font-weight: bold\"> Layer (type)                         </span>┃<span style=\"font-weight: bold\"> Output Shape                </span>┃<span style=\"font-weight: bold\">         Param # </span>┃\n",
       "┡━━━━━━━━━━━━━━━━━━━━━━━━━━━━━━━━━━━━━━╇━━━━━━━━━━━━━━━━━━━━━━━━━━━━━╇━━━━━━━━━━━━━━━━━┩\n",
       "│ dense (<span style=\"color: #0087ff; text-decoration-color: #0087ff\">Dense</span>)                        │ (<span style=\"color: #00d7ff; text-decoration-color: #00d7ff\">None</span>, <span style=\"color: #00af00; text-decoration-color: #00af00\">38</span>)                  │           <span style=\"color: #00af00; text-decoration-color: #00af00\">1,482</span> │\n",
       "├──────────────────────────────────────┼─────────────────────────────┼─────────────────┤\n",
       "│ dropout (<span style=\"color: #0087ff; text-decoration-color: #0087ff\">Dropout</span>)                    │ (<span style=\"color: #00d7ff; text-decoration-color: #00d7ff\">None</span>, <span style=\"color: #00af00; text-decoration-color: #00af00\">38</span>)                  │               <span style=\"color: #00af00; text-decoration-color: #00af00\">0</span> │\n",
       "├──────────────────────────────────────┼─────────────────────────────┼─────────────────┤\n",
       "│ dense_1 (<span style=\"color: #0087ff; text-decoration-color: #0087ff\">Dense</span>)                      │ (<span style=\"color: #00d7ff; text-decoration-color: #00d7ff\">None</span>, <span style=\"color: #00af00; text-decoration-color: #00af00\">16</span>)                  │             <span style=\"color: #00af00; text-decoration-color: #00af00\">624</span> │\n",
       "├──────────────────────────────────────┼─────────────────────────────┼─────────────────┤\n",
       "│ dropout_1 (<span style=\"color: #0087ff; text-decoration-color: #0087ff\">Dropout</span>)                  │ (<span style=\"color: #00d7ff; text-decoration-color: #00d7ff\">None</span>, <span style=\"color: #00af00; text-decoration-color: #00af00\">16</span>)                  │               <span style=\"color: #00af00; text-decoration-color: #00af00\">0</span> │\n",
       "├──────────────────────────────────────┼─────────────────────────────┼─────────────────┤\n",
       "│ dense_2 (<span style=\"color: #0087ff; text-decoration-color: #0087ff\">Dense</span>)                      │ (<span style=\"color: #00d7ff; text-decoration-color: #00d7ff\">None</span>, <span style=\"color: #00af00; text-decoration-color: #00af00\">32</span>)                  │             <span style=\"color: #00af00; text-decoration-color: #00af00\">544</span> │\n",
       "├──────────────────────────────────────┼─────────────────────────────┼─────────────────┤\n",
       "│ dropout_2 (<span style=\"color: #0087ff; text-decoration-color: #0087ff\">Dropout</span>)                  │ (<span style=\"color: #00d7ff; text-decoration-color: #00d7ff\">None</span>, <span style=\"color: #00af00; text-decoration-color: #00af00\">32</span>)                  │               <span style=\"color: #00af00; text-decoration-color: #00af00\">0</span> │\n",
       "├──────────────────────────────────────┼─────────────────────────────┼─────────────────┤\n",
       "│ dense_3 (<span style=\"color: #0087ff; text-decoration-color: #0087ff\">Dense</span>)                      │ (<span style=\"color: #00d7ff; text-decoration-color: #00d7ff\">None</span>, <span style=\"color: #00af00; text-decoration-color: #00af00\">16</span>)                  │             <span style=\"color: #00af00; text-decoration-color: #00af00\">528</span> │\n",
       "├──────────────────────────────────────┼─────────────────────────────┼─────────────────┤\n",
       "│ dropout_3 (<span style=\"color: #0087ff; text-decoration-color: #0087ff\">Dropout</span>)                  │ (<span style=\"color: #00d7ff; text-decoration-color: #00d7ff\">None</span>, <span style=\"color: #00af00; text-decoration-color: #00af00\">16</span>)                  │               <span style=\"color: #00af00; text-decoration-color: #00af00\">0</span> │\n",
       "├──────────────────────────────────────┼─────────────────────────────┼─────────────────┤\n",
       "│ dense_4 (<span style=\"color: #0087ff; text-decoration-color: #0087ff\">Dense</span>)                      │ (<span style=\"color: #00d7ff; text-decoration-color: #00d7ff\">None</span>, <span style=\"color: #00af00; text-decoration-color: #00af00\">1</span>)                   │              <span style=\"color: #00af00; text-decoration-color: #00af00\">17</span> │\n",
       "└──────────────────────────────────────┴─────────────────────────────┴─────────────────┘\n",
       "</pre>\n"
      ],
      "text/plain": [
       "┏━━━━━━━━━━━━━━━━━━━━━━━━━━━━━━━━━━━━━━┳━━━━━━━━━━━━━━━━━━━━━━━━━━━━━┳━━━━━━━━━━━━━━━━━┓\n",
       "┃\u001b[1m \u001b[0m\u001b[1mLayer (type)                        \u001b[0m\u001b[1m \u001b[0m┃\u001b[1m \u001b[0m\u001b[1mOutput Shape               \u001b[0m\u001b[1m \u001b[0m┃\u001b[1m \u001b[0m\u001b[1m        Param #\u001b[0m\u001b[1m \u001b[0m┃\n",
       "┡━━━━━━━━━━━━━━━━━━━━━━━━━━━━━━━━━━━━━━╇━━━━━━━━━━━━━━━━━━━━━━━━━━━━━╇━━━━━━━━━━━━━━━━━┩\n",
       "│ dense (\u001b[38;5;33mDense\u001b[0m)                        │ (\u001b[38;5;45mNone\u001b[0m, \u001b[38;5;34m38\u001b[0m)                  │           \u001b[38;5;34m1,482\u001b[0m │\n",
       "├──────────────────────────────────────┼─────────────────────────────┼─────────────────┤\n",
       "│ dropout (\u001b[38;5;33mDropout\u001b[0m)                    │ (\u001b[38;5;45mNone\u001b[0m, \u001b[38;5;34m38\u001b[0m)                  │               \u001b[38;5;34m0\u001b[0m │\n",
       "├──────────────────────────────────────┼─────────────────────────────┼─────────────────┤\n",
       "│ dense_1 (\u001b[38;5;33mDense\u001b[0m)                      │ (\u001b[38;5;45mNone\u001b[0m, \u001b[38;5;34m16\u001b[0m)                  │             \u001b[38;5;34m624\u001b[0m │\n",
       "├──────────────────────────────────────┼─────────────────────────────┼─────────────────┤\n",
       "│ dropout_1 (\u001b[38;5;33mDropout\u001b[0m)                  │ (\u001b[38;5;45mNone\u001b[0m, \u001b[38;5;34m16\u001b[0m)                  │               \u001b[38;5;34m0\u001b[0m │\n",
       "├──────────────────────────────────────┼─────────────────────────────┼─────────────────┤\n",
       "│ dense_2 (\u001b[38;5;33mDense\u001b[0m)                      │ (\u001b[38;5;45mNone\u001b[0m, \u001b[38;5;34m32\u001b[0m)                  │             \u001b[38;5;34m544\u001b[0m │\n",
       "├──────────────────────────────────────┼─────────────────────────────┼─────────────────┤\n",
       "│ dropout_2 (\u001b[38;5;33mDropout\u001b[0m)                  │ (\u001b[38;5;45mNone\u001b[0m, \u001b[38;5;34m32\u001b[0m)                  │               \u001b[38;5;34m0\u001b[0m │\n",
       "├──────────────────────────────────────┼─────────────────────────────┼─────────────────┤\n",
       "│ dense_3 (\u001b[38;5;33mDense\u001b[0m)                      │ (\u001b[38;5;45mNone\u001b[0m, \u001b[38;5;34m16\u001b[0m)                  │             \u001b[38;5;34m528\u001b[0m │\n",
       "├──────────────────────────────────────┼─────────────────────────────┼─────────────────┤\n",
       "│ dropout_3 (\u001b[38;5;33mDropout\u001b[0m)                  │ (\u001b[38;5;45mNone\u001b[0m, \u001b[38;5;34m16\u001b[0m)                  │               \u001b[38;5;34m0\u001b[0m │\n",
       "├──────────────────────────────────────┼─────────────────────────────┼─────────────────┤\n",
       "│ dense_4 (\u001b[38;5;33mDense\u001b[0m)                      │ (\u001b[38;5;45mNone\u001b[0m, \u001b[38;5;34m1\u001b[0m)                   │              \u001b[38;5;34m17\u001b[0m │\n",
       "└──────────────────────────────────────┴─────────────────────────────┴─────────────────┘\n"
      ]
     },
     "metadata": {},
     "output_type": "display_data"
    },
    {
     "data": {
      "text/html": [
       "<pre style=\"white-space:pre;overflow-x:auto;line-height:normal;font-family:Menlo,'DejaVu Sans Mono',consolas,'Courier New',monospace\"><span style=\"font-weight: bold\"> Total params: </span><span style=\"color: #00af00; text-decoration-color: #00af00\">9,587</span> (37.45 KB)\n",
       "</pre>\n"
      ],
      "text/plain": [
       "\u001b[1m Total params: \u001b[0m\u001b[38;5;34m9,587\u001b[0m (37.45 KB)\n"
      ]
     },
     "metadata": {},
     "output_type": "display_data"
    },
    {
     "data": {
      "text/html": [
       "<pre style=\"white-space:pre;overflow-x:auto;line-height:normal;font-family:Menlo,'DejaVu Sans Mono',consolas,'Courier New',monospace\"><span style=\"font-weight: bold\"> Trainable params: </span><span style=\"color: #00af00; text-decoration-color: #00af00\">3,195</span> (12.48 KB)\n",
       "</pre>\n"
      ],
      "text/plain": [
       "\u001b[1m Trainable params: \u001b[0m\u001b[38;5;34m3,195\u001b[0m (12.48 KB)\n"
      ]
     },
     "metadata": {},
     "output_type": "display_data"
    },
    {
     "data": {
      "text/html": [
       "<pre style=\"white-space:pre;overflow-x:auto;line-height:normal;font-family:Menlo,'DejaVu Sans Mono',consolas,'Courier New',monospace\"><span style=\"font-weight: bold\"> Non-trainable params: </span><span style=\"color: #00af00; text-decoration-color: #00af00\">0</span> (0.00 B)\n",
       "</pre>\n"
      ],
      "text/plain": [
       "\u001b[1m Non-trainable params: \u001b[0m\u001b[38;5;34m0\u001b[0m (0.00 B)\n"
      ]
     },
     "metadata": {},
     "output_type": "display_data"
    },
    {
     "data": {
      "text/html": [
       "<pre style=\"white-space:pre;overflow-x:auto;line-height:normal;font-family:Menlo,'DejaVu Sans Mono',consolas,'Courier New',monospace\"><span style=\"font-weight: bold\"> Optimizer params: </span><span style=\"color: #00af00; text-decoration-color: #00af00\">6,392</span> (24.97 KB)\n",
       "</pre>\n"
      ],
      "text/plain": [
       "\u001b[1m Optimizer params: \u001b[0m\u001b[38;5;34m6,392\u001b[0m (24.97 KB)\n"
      ]
     },
     "metadata": {},
     "output_type": "display_data"
    }
   ],
   "source": [
    "ann_model.summary()"
   ]
  },
  {
   "cell_type": "markdown",
   "id": "3abefd57",
   "metadata": {},
   "source": [
    "### Improve/Optimal ANN Model"
   ]
  },
  {
   "cell_type": "code",
   "execution_count": 48,
   "id": "7407684f",
   "metadata": {},
   "outputs": [],
   "source": [
    "early_stopping = EarlyStopping(monitor='val_loss', patience=10, restore_best_weights=True)"
   ]
  },
  {
   "cell_type": "code",
   "execution_count": 42,
   "id": "68aa5083",
   "metadata": {},
   "outputs": [
    {
     "data": {
      "application/javascript": [
       "\n",
       "        if (window._pyforest_update_imports_cell) { window._pyforest_update_imports_cell('import keras\\nimport pandas as pd\\nimport numpy as np\\nimport matplotlib.pyplot as plt'); }\n",
       "    "
      ],
      "text/plain": [
       "<IPython.core.display.Javascript object>"
      ]
     },
     "metadata": {},
     "output_type": "display_data"
    },
    {
     "data": {
      "application/javascript": [
       "\n",
       "        if (window._pyforest_update_imports_cell) { window._pyforest_update_imports_cell('import keras\\nimport pandas as pd\\nimport numpy as np\\nimport matplotlib.pyplot as plt'); }\n",
       "    "
      ],
      "text/plain": [
       "<IPython.core.display.Javascript object>"
      ]
     },
     "metadata": {},
     "output_type": "display_data"
    },
    {
     "data": {
      "application/javascript": [
       "\n",
       "        if (window._pyforest_update_imports_cell) { window._pyforest_update_imports_cell('import keras\\nimport pandas as pd\\nimport numpy as np\\nimport matplotlib.pyplot as plt'); }\n",
       "    "
      ],
      "text/plain": [
       "<IPython.core.display.Javascript object>"
      ]
     },
     "metadata": {},
     "output_type": "display_data"
    },
    {
     "data": {
      "application/javascript": [
       "\n",
       "        if (window._pyforest_update_imports_cell) { window._pyforest_update_imports_cell('import keras\\nimport pandas as pd\\nimport numpy as np\\nimport matplotlib.pyplot as plt'); }\n",
       "    "
      ],
      "text/plain": [
       "<IPython.core.display.Javascript object>"
      ]
     },
     "metadata": {},
     "output_type": "display_data"
    },
    {
     "data": {
      "application/javascript": [
       "\n",
       "        if (window._pyforest_update_imports_cell) { window._pyforest_update_imports_cell('import keras\\nimport pandas as pd\\nimport numpy as np\\nimport matplotlib.pyplot as plt'); }\n",
       "    "
      ],
      "text/plain": [
       "<IPython.core.display.Javascript object>"
      ]
     },
     "metadata": {},
     "output_type": "display_data"
    },
    {
     "data": {
      "application/javascript": [
       "\n",
       "        if (window._pyforest_update_imports_cell) { window._pyforest_update_imports_cell('import keras\\nimport pandas as pd\\nimport numpy as np\\nimport matplotlib.pyplot as plt'); }\n",
       "    "
      ],
      "text/plain": [
       "<IPython.core.display.Javascript object>"
      ]
     },
     "metadata": {},
     "output_type": "display_data"
    },
    {
     "data": {
      "application/javascript": [
       "\n",
       "        if (window._pyforest_update_imports_cell) { window._pyforest_update_imports_cell('import keras\\nimport pandas as pd\\nimport numpy as np\\nimport matplotlib.pyplot as plt'); }\n",
       "    "
      ],
      "text/plain": [
       "<IPython.core.display.Javascript object>"
      ]
     },
     "metadata": {},
     "output_type": "display_data"
    },
    {
     "data": {
      "application/javascript": [
       "\n",
       "        if (window._pyforest_update_imports_cell) { window._pyforest_update_imports_cell('import keras\\nimport pandas as pd\\nimport numpy as np\\nimport matplotlib.pyplot as plt'); }\n",
       "    "
      ],
      "text/plain": [
       "<IPython.core.display.Javascript object>"
      ]
     },
     "metadata": {},
     "output_type": "display_data"
    },
    {
     "data": {
      "application/javascript": [
       "\n",
       "        if (window._pyforest_update_imports_cell) { window._pyforest_update_imports_cell('import keras\\nimport pandas as pd\\nimport numpy as np\\nimport matplotlib.pyplot as plt'); }\n",
       "    "
      ],
      "text/plain": [
       "<IPython.core.display.Javascript object>"
      ]
     },
     "metadata": {},
     "output_type": "display_data"
    },
    {
     "data": {
      "application/javascript": [
       "\n",
       "        if (window._pyforest_update_imports_cell) { window._pyforest_update_imports_cell('import keras\\nimport pandas as pd\\nimport numpy as np\\nimport matplotlib.pyplot as plt'); }\n",
       "    "
      ],
      "text/plain": [
       "<IPython.core.display.Javascript object>"
      ]
     },
     "metadata": {},
     "output_type": "display_data"
    }
   ],
   "source": [
    "ann_model2 = keras.Sequential([\n",
    "    keras.layers.Dense(units=38, activation=\"softplus\", input_shape=(38,)),\n",
    "    keras.layers.Dropout(0.1),\n",
    "    keras.layers.Dense(units=16, activation=\"softplus\"),\n",
    "    keras.layers.Dropout(0.2),\n",
    "    keras.layers.Dense(units=32, activation=\"softplus\"),\n",
    "    keras.layers.Dropout(0.2),\n",
    "    keras.layers.Dense(units=16, activation=\"softplus\"),\n",
    "    keras.layers.Dropout(0.15),\n",
    "    keras.layers.Dense(units=1, activation=\"sigmoid\")\n",
    "])"
   ]
  },
  {
   "cell_type": "code",
   "execution_count": 43,
   "id": "1c8e75e9",
   "metadata": {},
   "outputs": [
    {
     "data": {
      "application/javascript": [
       "\n",
       "        if (window._pyforest_update_imports_cell) { window._pyforest_update_imports_cell('import keras\\nimport pandas as pd\\nimport numpy as np\\nimport matplotlib.pyplot as plt'); }\n",
       "    "
      ],
      "text/plain": [
       "<IPython.core.display.Javascript object>"
      ]
     },
     "metadata": {},
     "output_type": "display_data"
    }
   ],
   "source": [
    "ann_model2.compile(optimizer=keras.optimizers.Adam(0.01),\n",
    "                  loss=\"mse\",\n",
    "                  metrics=[\"accuracy\"])"
   ]
  },
  {
   "cell_type": "code",
   "execution_count": 49,
   "id": "aa141e45",
   "metadata": {},
   "outputs": [
    {
     "name": "stdout",
     "output_type": "stream",
     "text": [
      "Epoch 1/50\n",
      "740/740 - 1s - 2ms/step - accuracy: 0.9218 - loss: 0.0536 - val_accuracy: 0.9241 - val_loss: 0.0512\n",
      "Epoch 2/50\n",
      "740/740 - 2s - 2ms/step - accuracy: 0.9238 - loss: 0.0524 - val_accuracy: 0.9257 - val_loss: 0.0473\n",
      "Epoch 3/50\n",
      "740/740 - 1s - 2ms/step - accuracy: 0.9247 - loss: 0.0526 - val_accuracy: 0.9280 - val_loss: 0.0528\n",
      "Epoch 4/50\n",
      "740/740 - 1s - 2ms/step - accuracy: 0.9243 - loss: 0.0560 - val_accuracy: 0.9275 - val_loss: 0.0531\n",
      "Epoch 5/50\n",
      "740/740 - 2s - 2ms/step - accuracy: 0.9265 - loss: 0.0553 - val_accuracy: 0.9270 - val_loss: 0.0528\n",
      "Epoch 6/50\n",
      "740/740 - 1s - 2ms/step - accuracy: 0.9247 - loss: 0.0553 - val_accuracy: 0.9274 - val_loss: 0.0535\n",
      "Epoch 7/50\n",
      "740/740 - 1s - 2ms/step - accuracy: 0.9271 - loss: 0.0550 - val_accuracy: 0.9272 - val_loss: 0.0540\n",
      "Epoch 8/50\n",
      "740/740 - 1s - 2ms/step - accuracy: 0.9275 - loss: 0.0545 - val_accuracy: 0.9248 - val_loss: 0.0551\n",
      "Epoch 9/50\n",
      "740/740 - 2s - 2ms/step - accuracy: 0.9256 - loss: 0.0554 - val_accuracy: 0.9245 - val_loss: 0.0534\n",
      "Epoch 10/50\n",
      "740/740 - 3s - 4ms/step - accuracy: 0.9257 - loss: 0.0549 - val_accuracy: 0.9262 - val_loss: 0.0537\n",
      "Epoch 11/50\n",
      "740/740 - 1s - 2ms/step - accuracy: 0.9271 - loss: 0.0553 - val_accuracy: 0.9253 - val_loss: 0.0548\n",
      "Epoch 12/50\n",
      "740/740 - 1s - 2ms/step - accuracy: 0.9288 - loss: 0.0539 - val_accuracy: 0.9243 - val_loss: 0.0548\n"
     ]
    }
   ],
   "source": [
    "ann_latih3 = ann_model2.fit(X_train, y_train,\n",
    "                           epochs=50,\n",
    "                           callbacks=[early_stopping],\n",
    "                           validation_split=0.2,\n",
    "                           verbose=2)"
   ]
  },
  {
   "cell_type": "code",
   "execution_count": 50,
   "id": "2b82587b",
   "metadata": {},
   "outputs": [
    {
     "data": {
      "application/javascript": [
       "\n",
       "        if (window._pyforest_update_imports_cell) { window._pyforest_update_imports_cell('import keras\\nimport pandas as pd\\nimport numpy as np\\nimport matplotlib.pyplot as plt'); }\n",
       "    "
      ],
      "text/plain": [
       "<IPython.core.display.Javascript object>"
      ]
     },
     "metadata": {},
     "output_type": "display_data"
    },
    {
     "data": {
      "application/javascript": [
       "\n",
       "        if (window._pyforest_update_imports_cell) { window._pyforest_update_imports_cell('import keras\\nimport pandas as pd\\nimport numpy as np\\nimport matplotlib.pyplot as plt'); }\n",
       "    "
      ],
      "text/plain": [
       "<IPython.core.display.Javascript object>"
      ]
     },
     "metadata": {},
     "output_type": "display_data"
    },
    {
     "data": {
      "image/png": "[encoded data removed]",
      "text/plain": [
       "<Figure size 1200x600 with 2 Axes>"
      ]
     },
     "metadata": {},
     "output_type": "display_data"
    }
   ],
   "source": [
    "viz_hasil_churn(ann_latih2)"
   ]
  },
  {
   "cell_type": "code",
   "execution_count": 51,
   "id": "8637b592",
   "metadata": {},
   "outputs": [
    {
     "name": "stdout",
     "output_type": "stream",
     "text": [
      "Hasil Evaluasi Model terhadap Prediksi data test menggunakan ANN 2:\n"
     ]
    },
    {
     "data": {
      "application/javascript": [
       "\n",
       "        if (window._pyforest_update_imports_cell) { window._pyforest_update_imports_cell('import keras\\nimport pandas as pd\\nimport numpy as np\\nimport matplotlib.pyplot as plt'); }\n",
       "    "
      ],
      "text/plain": [
       "<IPython.core.display.Javascript object>"
      ]
     },
     "metadata": {},
     "output_type": "display_data"
    },
    {
     "name": "stdout",
     "output_type": "stream",
     "text": [
      "Accuracy:  0.932423\n",
      "Precision:  0.954770\n",
      "Recall:  0.918480\n",
      "F1 Score:  0.936273\n",
      "Loss:  0.287877\n"
     ]
    }
   ],
   "source": [
    "print(\"Hasil Evaluasi Model terhadap Prediksi data test menggunakan ANN 2:\")\n",
    "pred_report(y_test, ann_model2.predict(X_test, verbose=0))"
   ]
  },
  {
   "cell_type": "code",
   "execution_count": 52,
   "id": "dc65a373",
   "metadata": {},
   "outputs": [
    {
     "data": {
      "application/javascript": [
       "\n",
       "        if (window._pyforest_update_imports_cell) { window._pyforest_update_imports_cell('import keras\\nimport pandas as pd\\nimport numpy as np\\nimport matplotlib.pyplot as plt'); }\n",
       "    "
      ],
      "text/plain": [
       "<IPython.core.display.Javascript object>"
      ]
     },
     "metadata": {},
     "output_type": "display_data"
    },
    {
     "data": {
      "application/javascript": [
       "\n",
       "        if (window._pyforest_update_imports_cell) { window._pyforest_update_imports_cell('import keras\\nimport pandas as pd\\nimport numpy as np\\nimport matplotlib.pyplot as plt'); }\n",
       "    "
      ],
      "text/plain": [
       "<IPython.core.display.Javascript object>"
      ]
     },
     "metadata": {},
     "output_type": "display_data"
    },
    {
     "data": {
      "application/javascript": [
       "\n",
       "        if (window._pyforest_update_imports_cell) { window._pyforest_update_imports_cell('import keras\\nimport pandas as pd\\nimport numpy as np\\nimport matplotlib.pyplot as plt'); }\n",
       "    "
      ],
      "text/plain": [
       "<IPython.core.display.Javascript object>"
      ]
     },
     "metadata": {},
     "output_type": "display_data"
    },
    {
     "data": {
      "image/png": "[encoded data removed]",
      "text/plain": [
       "<Figure size 640x480 with 2 Axes>"
      ]
     },
     "metadata": {},
     "output_type": "display_data"
    }
   ],
   "source": [
    "plot_confusion_matriks(y_test, np.round(ann_model2.predict(X_test, verbose=0)))"
   ]
  },
  {
   "cell_type": "code",
   "execution_count": 53,
   "id": "9e99a388",
   "metadata": {},
   "outputs": [
    {
     "data": {
      "text/html": [
       "<pre style=\"white-space:pre;overflow-x:auto;line-height:normal;font-family:Menlo,'DejaVu Sans Mono',consolas,'Courier New',monospace\"><span style=\"font-weight: bold\">Model: \"sequential_1\"</span>\n",
       "</pre>\n"
      ],
      "text/plain": [
       "\u001b[1mModel: \"sequential_1\"\u001b[0m\n"
      ]
     },
     "metadata": {},
     "output_type": "display_data"
    },
    {
     "data": {
      "text/html": [
       "<pre style=\"white-space:pre;overflow-x:auto;line-height:normal;font-family:Menlo,'DejaVu Sans Mono',consolas,'Courier New',monospace\">┏━━━━━━━━━━━━━━━━━━━━━━━━━━━━━━━━━━━━━━┳━━━━━━━━━━━━━━━━━━━━━━━━━━━━━┳━━━━━━━━━━━━━━━━━┓\n",
       "┃<span style=\"font-weight: bold\"> Layer (type)                         </span>┃<span style=\"font-weight: bold\"> Output Shape                </span>┃<span style=\"font-weight: bold\">         Param # </span>┃\n",
       "┡━━━━━━━━━━━━━━━━━━━━━━━━━━━━━━━━━━━━━━╇━━━━━━━━━━━━━━━━━━━━━━━━━━━━━╇━━━━━━━━━━━━━━━━━┩\n",
       "│ dense_5 (<span style=\"color: #0087ff; text-decoration-color: #0087ff\">Dense</span>)                      │ (<span style=\"color: #00d7ff; text-decoration-color: #00d7ff\">None</span>, <span style=\"color: #00af00; text-decoration-color: #00af00\">38</span>)                  │           <span style=\"color: #00af00; text-decoration-color: #00af00\">1,482</span> │\n",
       "├──────────────────────────────────────┼─────────────────────────────┼─────────────────┤\n",
       "│ dropout_4 (<span style=\"color: #0087ff; text-decoration-color: #0087ff\">Dropout</span>)                  │ (<span style=\"color: #00d7ff; text-decoration-color: #00d7ff\">None</span>, <span style=\"color: #00af00; text-decoration-color: #00af00\">38</span>)                  │               <span style=\"color: #00af00; text-decoration-color: #00af00\">0</span> │\n",
       "├──────────────────────────────────────┼─────────────────────────────┼─────────────────┤\n",
       "│ dense_6 (<span style=\"color: #0087ff; text-decoration-color: #0087ff\">Dense</span>)                      │ (<span style=\"color: #00d7ff; text-decoration-color: #00d7ff\">None</span>, <span style=\"color: #00af00; text-decoration-color: #00af00\">16</span>)                  │             <span style=\"color: #00af00; text-decoration-color: #00af00\">624</span> │\n",
       "├──────────────────────────────────────┼─────────────────────────────┼─────────────────┤\n",
       "│ dropout_5 (<span style=\"color: #0087ff; text-decoration-color: #0087ff\">Dropout</span>)                  │ (<span style=\"color: #00d7ff; text-decoration-color: #00d7ff\">None</span>, <span style=\"color: #00af00; text-decoration-color: #00af00\">16</span>)                  │               <span style=\"color: #00af00; text-decoration-color: #00af00\">0</span> │\n",
       "├──────────────────────────────────────┼─────────────────────────────┼─────────────────┤\n",
       "│ dense_7 (<span style=\"color: #0087ff; text-decoration-color: #0087ff\">Dense</span>)                      │ (<span style=\"color: #00d7ff; text-decoration-color: #00d7ff\">None</span>, <span style=\"color: #00af00; text-decoration-color: #00af00\">32</span>)                  │             <span style=\"color: #00af00; text-decoration-color: #00af00\">544</span> │\n",
       "├──────────────────────────────────────┼─────────────────────────────┼─────────────────┤\n",
       "│ dropout_6 (<span style=\"color: #0087ff; text-decoration-color: #0087ff\">Dropout</span>)                  │ (<span style=\"color: #00d7ff; text-decoration-color: #00d7ff\">None</span>, <span style=\"color: #00af00; text-decoration-color: #00af00\">32</span>)                  │               <span style=\"color: #00af00; text-decoration-color: #00af00\">0</span> │\n",
       "├──────────────────────────────────────┼─────────────────────────────┼─────────────────┤\n",
       "│ dense_8 (<span style=\"color: #0087ff; text-decoration-color: #0087ff\">Dense</span>)                      │ (<span style=\"color: #00d7ff; text-decoration-color: #00d7ff\">None</span>, <span style=\"color: #00af00; text-decoration-color: #00af00\">16</span>)                  │             <span style=\"color: #00af00; text-decoration-color: #00af00\">528</span> │\n",
       "├──────────────────────────────────────┼─────────────────────────────┼─────────────────┤\n",
       "│ dropout_7 (<span style=\"color: #0087ff; text-decoration-color: #0087ff\">Dropout</span>)                  │ (<span style=\"color: #00d7ff; text-decoration-color: #00d7ff\">None</span>, <span style=\"color: #00af00; text-decoration-color: #00af00\">16</span>)                  │               <span style=\"color: #00af00; text-decoration-color: #00af00\">0</span> │\n",
       "├──────────────────────────────────────┼─────────────────────────────┼─────────────────┤\n",
       "│ dense_9 (<span style=\"color: #0087ff; text-decoration-color: #0087ff\">Dense</span>)                      │ (<span style=\"color: #00d7ff; text-decoration-color: #00d7ff\">None</span>, <span style=\"color: #00af00; text-decoration-color: #00af00\">1</span>)                   │              <span style=\"color: #00af00; text-decoration-color: #00af00\">17</span> │\n",
       "└──────────────────────────────────────┴─────────────────────────────┴─────────────────┘\n",
       "</pre>\n"
      ],
      "text/plain": [
       "┏━━━━━━━━━━━━━━━━━━━━━━━━━━━━━━━━━━━━━━┳━━━━━━━━━━━━━━━━━━━━━━━━━━━━━┳━━━━━━━━━━━━━━━━━┓\n",
       "┃\u001b[1m \u001b[0m\u001b[1mLayer (type)                        \u001b[0m\u001b[1m \u001b[0m┃\u001b[1m \u001b[0m\u001b[1mOutput Shape               \u001b[0m\u001b[1m \u001b[0m┃\u001b[1m \u001b[0m\u001b[1m        Param #\u001b[0m\u001b[1m \u001b[0m┃\n",
       "┡━━━━━━━━━━━━━━━━━━━━━━━━━━━━━━━━━━━━━━╇━━━━━━━━━━━━━━━━━━━━━━━━━━━━━╇━━━━━━━━━━━━━━━━━┩\n",
       "│ dense_5 (\u001b[38;5;33mDense\u001b[0m)                      │ (\u001b[38;5;45mNone\u001b[0m, \u001b[38;5;34m38\u001b[0m)                  │           \u001b[38;5;34m1,482\u001b[0m │\n",
       "├──────────────────────────────────────┼─────────────────────────────┼─────────────────┤\n",
       "│ dropout_4 (\u001b[38;5;33mDropout\u001b[0m)                  │ (\u001b[38;5;45mNone\u001b[0m, \u001b[38;5;34m38\u001b[0m)                  │               \u001b[38;5;34m0\u001b[0m │\n",
       "├──────────────────────────────────────┼─────────────────────────────┼─────────────────┤\n",
       "│ dense_6 (\u001b[38;5;33mDense\u001b[0m)                      │ (\u001b[38;5;45mNone\u001b[0m, \u001b[38;5;34m16\u001b[0m)                  │             \u001b[38;5;34m624\u001b[0m │\n",
       "├──────────────────────────────────────┼─────────────────────────────┼─────────────────┤\n",
       "│ dropout_5 (\u001b[38;5;33mDropout\u001b[0m)                  │ (\u001b[38;5;45mNone\u001b[0m, \u001b[38;5;34m16\u001b[0m)                  │               \u001b[38;5;34m0\u001b[0m │\n",
       "├──────────────────────────────────────┼─────────────────────────────┼─────────────────┤\n",
       "│ dense_7 (\u001b[38;5;33mDense\u001b[0m)                      │ (\u001b[38;5;45mNone\u001b[0m, \u001b[38;5;34m32\u001b[0m)                  │             \u001b[38;5;34m544\u001b[0m │\n",
       "├──────────────────────────────────────┼─────────────────────────────┼─────────────────┤\n",
       "│ dropout_6 (\u001b[38;5;33mDropout\u001b[0m)                  │ (\u001b[38;5;45mNone\u001b[0m, \u001b[38;5;34m32\u001b[0m)                  │               \u001b[38;5;34m0\u001b[0m │\n",
       "├──────────────────────────────────────┼─────────────────────────────┼─────────────────┤\n",
       "│ dense_8 (\u001b[38;5;33mDense\u001b[0m)                      │ (\u001b[38;5;45mNone\u001b[0m, \u001b[38;5;34m16\u001b[0m)                  │             \u001b[38;5;34m528\u001b[0m │\n",
       "├──────────────────────────────────────┼─────────────────────────────┼─────────────────┤\n",
       "│ dropout_7 (\u001b[38;5;33mDropout\u001b[0m)                  │ (\u001b[38;5;45mNone\u001b[0m, \u001b[38;5;34m16\u001b[0m)                  │               \u001b[38;5;34m0\u001b[0m │\n",
       "├──────────────────────────────────────┼─────────────────────────────┼─────────────────┤\n",
       "│ dense_9 (\u001b[38;5;33mDense\u001b[0m)                      │ (\u001b[38;5;45mNone\u001b[0m, \u001b[38;5;34m1\u001b[0m)                   │              \u001b[38;5;34m17\u001b[0m │\n",
       "└──────────────────────────────────────┴─────────────────────────────┴─────────────────┘\n"
      ]
     },
     "metadata": {},
     "output_type": "display_data"
    },
    {
     "data": {
      "text/html": [
       "<pre style=\"white-space:pre;overflow-x:auto;line-height:normal;font-family:Menlo,'DejaVu Sans Mono',consolas,'Courier New',monospace\"><span style=\"font-weight: bold\"> Total params: </span><span style=\"color: #00af00; text-decoration-color: #00af00\">9,587</span> (37.45 KB)\n",
       "</pre>\n"
      ],
      "text/plain": [
       "\u001b[1m Total params: \u001b[0m\u001b[38;5;34m9,587\u001b[0m (37.45 KB)\n"
      ]
     },
     "metadata": {},
     "output_type": "display_data"
    },
    {
     "data": {
      "text/html": [
       "<pre style=\"white-space:pre;overflow-x:auto;line-height:normal;font-family:Menlo,'DejaVu Sans Mono',consolas,'Courier New',monospace\"><span style=\"font-weight: bold\"> Trainable params: </span><span style=\"color: #00af00; text-decoration-color: #00af00\">3,195</span> (12.48 KB)\n",
       "</pre>\n"
      ],
      "text/plain": [
       "\u001b[1m Trainable params: \u001b[0m\u001b[38;5;34m3,195\u001b[0m (12.48 KB)\n"
      ]
     },
     "metadata": {},
     "output_type": "display_data"
    },
    {
     "data": {
      "text/html": [
       "<pre style=\"white-space:pre;overflow-x:auto;line-height:normal;font-family:Menlo,'DejaVu Sans Mono',consolas,'Courier New',monospace\"><span style=\"font-weight: bold\"> Non-trainable params: </span><span style=\"color: #00af00; text-decoration-color: #00af00\">0</span> (0.00 B)\n",
       "</pre>\n"
      ],
      "text/plain": [
       "\u001b[1m Non-trainable params: \u001b[0m\u001b[38;5;34m0\u001b[0m (0.00 B)\n"
      ]
     },
     "metadata": {},
     "output_type": "display_data"
    },
    {
     "data": {
      "text/html": [
       "<pre style=\"white-space:pre;overflow-x:auto;line-height:normal;font-family:Menlo,'DejaVu Sans Mono',consolas,'Courier New',monospace\"><span style=\"font-weight: bold\"> Optimizer params: </span><span style=\"color: #00af00; text-decoration-color: #00af00\">6,392</span> (24.97 KB)\n",
       "</pre>\n"
      ],
      "text/plain": [
       "\u001b[1m Optimizer params: \u001b[0m\u001b[38;5;34m6,392\u001b[0m (24.97 KB)\n"
      ]
     },
     "metadata": {},
     "output_type": "display_data"
    }
   ],
   "source": [
    "ann_model2.summary()"
   ]
  },
  {
   "cell_type": "markdown",
   "id": "5ed2cbfc",
   "metadata": {},
   "source": [
    "### Diatas merupakan hasil modelling terbaik yang saya bisa temukan setelah melakukan try dan error."
   ]
  },
  {
   "cell_type": "markdown",
   "id": "16d58019",
   "metadata": {},
   "source": [
    "### Save 4 Best Model\n",
    "1. Random Forest\n",
    "2. Decision Tree\n",
    "3. Ada Boost\n",
    "4. Artificial Neural Network\n",
    "\n",
    "Performa Keseluruhan:\n",
    "\n",
    "Kita dapat melihat bahwa Decision Tree dan Random Forest memiliki nilai akurasi, presisi, recall, dan F1-score yang hampir sama tinggi, sedangkan ANN memiliki akurasi yang sedikit lebih rendah namun presisi yang lebih tinggi. Ada Boost memiliki recall tertinggi, namun dengan nilai presisi yang sedikit lebih rendah. Decision Tree memiliki keunggulan dalam interpretabilitas karena strukturnya yang mirip dengan aturan-aturan keputusan yang mudah dipahami. Random Forest, meskipun lebih kompleks, dapat memberikan beberapa informasi interpretabel tentang fitur-fitur yang penting. ANN sering kali dianggap sebagai \"black box\" karena kompleksitasnya yang tinggi.\n",
    "\n",
    "1. Based on Exploratory Data Analysis:\n",
    "  - Pelanggan tanpa membership dan pelanggan dengan membership basic memiliki risiko churning tertinggi karena kurangnya loyalitas, manfaat yang terbatas, sensitivitas harga, dan keterlibatan yang terbatas.\n",
    "  - Nasabah yang berisiko churning memiliki rata-rata nilai transaksi yang lebih rendah dibandingkan dengan nasabah yang tidak berisiko churning karena berkurangnya penggunaan.\n",
    "  - Pelanggan yang berisiko melakukan churning mungkin memiliki saldo poin yang lebih rendah di dompet mereka\n",
    "  - Kualitas produk yang buruk dapat menyebabkan pelanggan berisiko berpindah karena berkurangnya kepuasan.\n",
    "  \n",
    "2. Based on Model Evaluation:\n",
    "  - Model yang terpilih adalah model sekuensial yang telah diperbaiki dengan model improvement atau menggunakan earlystop. Model ini juga memiliki recall dan precision tertinggi untuk label 0 (nasabah yang berisiko churning) dan memiliki false negative terendah (nasabah tidak berisiko churning diprediksi sebagai nasabah yang berisiko churning).\n",
    "  \n",
    "3. Business Insights: \n",
    "  - Untuk mempertahankan pelanggan e-commerce yang berisiko berpindah, penting untuk mengatasi faktor-faktor yang berkontribusi terhadap kemungkinan mereka berpindah. Beberapa strategi yang efektif dapat mencakup menawarkan program penghargaan loyalitas, memberikan penawaran dan promosi yang dipersonalisasi, dan iklan yang lebih bagus.\n"
   ]
  },
  {
   "cell_type": "markdown",
   "id": "434f0864",
   "metadata": {},
   "source": [
    "#### Disini aku memutuskan untuk menggunakan model Artificial Neural Network\n",
    "\n",
    "Pengen aja sekali-kali pake ANN. Tapi nanti jika memang dibutuhkan kita akan menggunakan model seperti Random Forest atau model lainnya."
   ]
  },
  {
   "cell_type": "code",
   "execution_count": 55,
   "id": "887e1c80",
   "metadata": {},
   "outputs": [
    {
     "data": {
      "application/javascript": [
       "\n",
       "        if (window._pyforest_update_imports_cell) { window._pyforest_update_imports_cell('import pickle\\nimport pandas as pd\\nimport keras\\nimport numpy as np\\nimport matplotlib.pyplot as plt'); }\n",
       "    "
      ],
      "text/plain": [
       "<IPython.core.display.Javascript object>"
      ]
     },
     "metadata": {},
     "output_type": "display_data"
    },
    {
     "data": {
      "application/javascript": [
       "\n",
       "        if (window._pyforest_update_imports_cell) { window._pyforest_update_imports_cell('import pickle\\nimport pandas as pd\\nimport keras\\nimport numpy as np\\nimport matplotlib.pyplot as plt'); }\n",
       "    "
      ],
      "text/plain": [
       "<IPython.core.display.Javascript object>"
      ]
     },
     "metadata": {},
     "output_type": "display_data"
    }
   ],
   "source": [
    "with open('C:/Users/ASUS/kode/Projek/E-Commerce Customer Churn Prediction/ann_model.pickle', 'wb') as f:\n",
    "    pickle.dump(ann_model, f)\n",
    "\n",
    "with open('C:/Users/ASUS/kode/Projek/E-Commerce Customer Churn Prediction/ann_model_improve.pickle', 'wb') as f:\n",
    "    pickle.dump(ann_model2, f)"
   ]
  }
 ],
 "metadata": {
  "kernelspec": {
   "display_name": "Python 3 (ipykernel)",
   "language": "python",
   "name": "python3"
  },
  "language_info": {
   "codemirror_mode": {
    "name": "ipython",
    "version": 3
   },
   "file_extension": ".py",
   "mimetype": "text/x-python",
   "name": "python",
   "nbconvert_exporter": "python",
   "pygments_lexer": "ipython3",
   "version": "3.11.5"
  }
 },
 "nbformat": 4,
 "nbformat_minor": 5
}
